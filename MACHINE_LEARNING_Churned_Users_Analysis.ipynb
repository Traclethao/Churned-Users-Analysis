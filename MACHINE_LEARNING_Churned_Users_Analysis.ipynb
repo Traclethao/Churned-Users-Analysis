{
  "nbformat": 4,
  "nbformat_minor": 0,
  "metadata": {
    "colab": {
      "provenance": [],
      "collapsed_sections": [
        "FuPYiqPR7tNf",
        "nCwZ7Isv3SjU",
        "aRJxQmxS6NK5",
        "3dyOspyr3Y_6",
        "v9ay3gg-9D-S",
        "AdgSsNEZ9owE",
        "4I-npZIM5K5b",
        "pZ2h__ks5iUz",
        "PgCdDulHTY9V",
        "XLoWiVnYToIb",
        "m0q2qOHn5odG",
        "VG-FwfgjPYBS",
        "drpwRmS28kIU",
        "k2e_t4iURVO3",
        "wnqa8tMC8vgi",
        "GxmS5rf7WCuY",
        "UMdAtZpfWtWU",
        "uLBlcqAAXJw5",
        "eGYhKZLMXm9X",
        "BFeqEM6tlCGq",
        "IvHuyoKMn0L8",
        "9ycsow1fn9Zv",
        "6w78MTyF8nff",
        "a_S1Mv71IH7i"
      ]
    },
    "kernelspec": {
      "name": "python3",
      "display_name": "Python 3"
    },
    "language_info": {
      "name": "python"
    }
  },
  "cells": [
    {
      "cell_type": "markdown",
      "source": [
        "# **QUESTION 1 + 2**"
      ],
      "metadata": {
        "id": "FuPYiqPR7tNf"
      }
    },
    {
      "cell_type": "markdown",
      "source": [
        "## 1. Data Cleaning"
      ],
      "metadata": {
        "id": "nCwZ7Isv3SjU"
      }
    },
    {
      "cell_type": "markdown",
      "source": [
        "### **Data Overview**"
      ],
      "metadata": {
        "id": "aRJxQmxS6NK5"
      }
    },
    {
      "cell_type": "code",
      "source": [
        "import numpy as np\n",
        "import pandas as pd\n",
        "import os\n",
        "import matplotlib.pyplot as plt\n",
        "import seaborn as sns\n",
        "\n",
        "import warnings\n",
        "warnings.filterwarnings('ignore')"
      ],
      "metadata": {
        "id": "6VOaCd-i6Rlm"
      },
      "execution_count": null,
      "outputs": []
    },
    {
      "cell_type": "code",
      "source": [
        "from google.colab import drive\n",
        "drive.mount('/content/drive')\n",
        "path = '/content/drive/MyDrive/'"
      ],
      "metadata": {
        "colab": {
          "base_uri": "https://localhost:8080/"
        },
        "id": "oF4N3fuj6cQs",
        "outputId": "2e957674-7010-4dd9-9235-4c81b7671488"
      },
      "execution_count": null,
      "outputs": [
        {
          "output_type": "stream",
          "name": "stdout",
          "text": [
            "Mounted at /content/drive\n"
          ]
        }
      ]
    },
    {
      "cell_type": "code",
      "source": [
        "df = pd.read_excel(path+\"churn_prediction.xlsx\")\n",
        "print(df)"
      ],
      "metadata": {
        "colab": {
          "base_uri": "https://localhost:8080/"
        },
        "id": "dYRh-Jut6ceq",
        "outputId": "ab6429d4-ca44-4b35-83f5-dbdcf0bed70f"
      },
      "execution_count": null,
      "outputs": [
        {
          "output_type": "stream",
          "name": "stdout",
          "text": [
            "      CustomerID  Churn  Tenure PreferredLoginDevice  CityTier  \\\n",
            "0          52869      0    20.0         Mobile Phone         3   \n",
            "1          52942      0    13.0             Computer         1   \n",
            "2          52972      0    16.0         Mobile Phone         3   \n",
            "3          53125      0     5.0         Mobile Phone         1   \n",
            "4          53367      0     9.0         Mobile Phone         1   \n",
            "...          ...    ...     ...                  ...       ...   \n",
            "5625       55535      0    61.0         Mobile Phone         3   \n",
            "5626       55538      0    23.0             Computer         1   \n",
            "5627       55562      0    29.0         Mobile Phone         2   \n",
            "5628       55598      0    13.0             Computer         1   \n",
            "5629       55604      0    16.0         Mobile Phone         1   \n",
            "\n",
            "      WarehouseToHome PreferredPaymentMode  Gender  HourSpendOnApp  \\\n",
            "0                 7.0             E wallet  Female             4.0   \n",
            "1                 9.0     Cash on Delivery  Female             4.0   \n",
            "2                 7.0           Debit Card    Male             3.0   \n",
            "3                16.0           Debit Card    Male             3.0   \n",
            "4                28.0           Debit Card  Female             3.0   \n",
            "...               ...                  ...     ...             ...   \n",
            "5625             28.0           Debit Card  Female             4.0   \n",
            "5626              9.0           Debit Card    Male             3.0   \n",
            "5627             33.0                  UPI    Male             4.0   \n",
            "5628             16.0           Debit Card    Male             3.0   \n",
            "5629              9.0           Debit Card    Male             3.0   \n",
            "\n",
            "      NumberOfDeviceRegistered    PreferedOrderCat  SatisfactionScore  \\\n",
            "0                            4             Fashion                  5   \n",
            "1                            4             Fashion                  3   \n",
            "2                            4  Laptop & Accessory                  3   \n",
            "3                            4             Fashion                  4   \n",
            "4                            4  Laptop & Accessory                  2   \n",
            "...                        ...                 ...                ...   \n",
            "5625                         4             Grocery                  1   \n",
            "5626                         4              Others                  1   \n",
            "5627                         2              Others                  4   \n",
            "5628                         4              Others                  1   \n",
            "5629                         4              Others                  3   \n",
            "\n",
            "     MaritalStatus  NumberOfAddress  Complain  OrderAmountHikeFromlastYear  \\\n",
            "0          Married                3         0                         26.0   \n",
            "1           Single                2         0                         26.0   \n",
            "2         Divorced                3         0                         26.0   \n",
            "3          Married                3         0                         26.0   \n",
            "4         Divorced                3         1                         26.0   \n",
            "...            ...              ...       ...                          ...   \n",
            "5625       Married                6         1                          NaN   \n",
            "5626       Married                5         0                          NaN   \n",
            "5627       Married                6         1                          NaN   \n",
            "5628        Single                4         0                          NaN   \n",
            "5629       Married                7         0                          NaN   \n",
            "\n",
            "      CouponUsed  OrderCount  DaySinceLastOrder  CashbackAmount  \n",
            "0            5.0        16.0                NaN          229.53  \n",
            "1           11.0         NaN                9.0          234.38  \n",
            "2            5.0        12.0                7.0          174.07  \n",
            "3            2.0         2.0                9.0          231.48  \n",
            "4            1.0         2.0                8.0          165.14  \n",
            "...          ...         ...                ...             ...  \n",
            "5625         1.0         2.0                1.0          303.75  \n",
            "5626         5.0         5.0                4.0          316.61  \n",
            "5627         2.0         2.0                5.0          321.36  \n",
            "5628         2.0         2.0                4.0          319.31  \n",
            "5629         1.0         5.0               15.0          313.80  \n",
            "\n",
            "[5630 rows x 20 columns]\n"
          ]
        }
      ]
    },
    {
      "cell_type": "code",
      "source": [
        "print(df.info())"
      ],
      "metadata": {
        "colab": {
          "base_uri": "https://localhost:8080/"
        },
        "id": "HUDvXoP13oD5",
        "outputId": "1ed8a888-be20-46b3-de8e-4e4e37be2200"
      },
      "execution_count": null,
      "outputs": [
        {
          "output_type": "stream",
          "name": "stdout",
          "text": [
            "<class 'pandas.core.frame.DataFrame'>\n",
            "RangeIndex: 5630 entries, 0 to 5629\n",
            "Data columns (total 20 columns):\n",
            " #   Column                       Non-Null Count  Dtype  \n",
            "---  ------                       --------------  -----  \n",
            " 0   CustomerID                   5630 non-null   int64  \n",
            " 1   Churn                        5630 non-null   int64  \n",
            " 2   Tenure                       5366 non-null   float64\n",
            " 3   PreferredLoginDevice         5630 non-null   object \n",
            " 4   CityTier                     5630 non-null   int64  \n",
            " 5   WarehouseToHome              5379 non-null   float64\n",
            " 6   PreferredPaymentMode         5630 non-null   object \n",
            " 7   Gender                       5630 non-null   object \n",
            " 8   HourSpendOnApp               5375 non-null   float64\n",
            " 9   NumberOfDeviceRegistered     5630 non-null   int64  \n",
            " 10  PreferedOrderCat             5630 non-null   object \n",
            " 11  SatisfactionScore            5630 non-null   int64  \n",
            " 12  MaritalStatus                5630 non-null   object \n",
            " 13  NumberOfAddress              5630 non-null   int64  \n",
            " 14  Complain                     5630 non-null   int64  \n",
            " 15  OrderAmountHikeFromlastYear  5365 non-null   float64\n",
            " 16  CouponUsed                   5374 non-null   float64\n",
            " 17  OrderCount                   5372 non-null   float64\n",
            " 18  DaySinceLastOrder            5323 non-null   float64\n",
            " 19  CashbackAmount               5630 non-null   float64\n",
            "dtypes: float64(8), int64(7), object(5)\n",
            "memory usage: 879.8+ KB\n",
            "None\n"
          ]
        }
      ]
    },
    {
      "cell_type": "markdown",
      "source": [
        "### **Handle Missing/Duplicate Values**"
      ],
      "metadata": {
        "id": "3dyOspyr3Y_6"
      }
    },
    {
      "cell_type": "code",
      "source": [
        "print(df.isna().sum())"
      ],
      "metadata": {
        "colab": {
          "base_uri": "https://localhost:8080/"
        },
        "id": "x1tbTql27AYw",
        "outputId": "3e97d802-9d9c-4116-b79e-eb8309c728c7"
      },
      "execution_count": null,
      "outputs": [
        {
          "output_type": "stream",
          "name": "stdout",
          "text": [
            "CustomerID                       0\n",
            "Churn                            0\n",
            "Tenure                         264\n",
            "PreferredLoginDevice             0\n",
            "CityTier                         0\n",
            "WarehouseToHome                251\n",
            "PreferredPaymentMode             0\n",
            "Gender                           0\n",
            "HourSpendOnApp                 255\n",
            "NumberOfDeviceRegistered         0\n",
            "PreferedOrderCat                 0\n",
            "SatisfactionScore                0\n",
            "MaritalStatus                    0\n",
            "NumberOfAddress                  0\n",
            "Complain                         0\n",
            "OrderAmountHikeFromlastYear    265\n",
            "CouponUsed                     256\n",
            "OrderCount                     258\n",
            "DaySinceLastOrder              307\n",
            "CashbackAmount                   0\n",
            "dtype: int64\n"
          ]
        }
      ]
    },
    {
      "cell_type": "code",
      "source": [
        "print(df.describe())"
      ],
      "metadata": {
        "colab": {
          "base_uri": "https://localhost:8080/"
        },
        "id": "qq1Z0HrXocQp",
        "outputId": "f90a57f6-76bd-4a0c-dea7-12b216d219b0"
      },
      "execution_count": null,
      "outputs": [
        {
          "output_type": "stream",
          "name": "stdout",
          "text": [
            "         CustomerID        Churn       Tenure     CityTier  WarehouseToHome  \\\n",
            "count   5630.000000  5630.000000  5366.000000  5630.000000      5379.000000   \n",
            "mean   52815.500000     0.168384    10.189899     1.654707        15.639896   \n",
            "std     1625.385339     0.374240     8.557241     0.915389         8.531475   \n",
            "min    50001.000000     0.000000     0.000000     1.000000         5.000000   \n",
            "25%    51408.250000     0.000000     2.000000     1.000000         9.000000   \n",
            "50%    52815.500000     0.000000     9.000000     1.000000        14.000000   \n",
            "75%    54222.750000     0.000000    16.000000     3.000000        20.000000   \n",
            "max    55630.000000     1.000000    61.000000     3.000000       127.000000   \n",
            "\n",
            "       HourSpendOnApp  NumberOfDeviceRegistered  SatisfactionScore  \\\n",
            "count     5375.000000               5630.000000        5630.000000   \n",
            "mean         2.931535                  3.688988           3.066785   \n",
            "std          0.721926                  1.023999           1.380194   \n",
            "min          0.000000                  1.000000           1.000000   \n",
            "25%          2.000000                  3.000000           2.000000   \n",
            "50%          3.000000                  4.000000           3.000000   \n",
            "75%          3.000000                  4.000000           4.000000   \n",
            "max          5.000000                  6.000000           5.000000   \n",
            "\n",
            "       NumberOfAddress     Complain  OrderAmountHikeFromlastYear   CouponUsed  \\\n",
            "count      5630.000000  5630.000000                  5365.000000  5374.000000   \n",
            "mean          4.214032     0.284902                    15.707922     1.751023   \n",
            "std           2.583586     0.451408                     3.675485     1.894621   \n",
            "min           1.000000     0.000000                    11.000000     0.000000   \n",
            "25%           2.000000     0.000000                    13.000000     1.000000   \n",
            "50%           3.000000     0.000000                    15.000000     1.000000   \n",
            "75%           6.000000     1.000000                    18.000000     2.000000   \n",
            "max          22.000000     1.000000                    26.000000    16.000000   \n",
            "\n",
            "        OrderCount  DaySinceLastOrder  CashbackAmount  \n",
            "count  5372.000000        5323.000000     5630.000000  \n",
            "mean      3.008004           4.543491      177.223030  \n",
            "std       2.939680           3.654433       49.207036  \n",
            "min       1.000000           0.000000        0.000000  \n",
            "25%       1.000000           2.000000      145.770000  \n",
            "50%       2.000000           3.000000      163.280000  \n",
            "75%       3.000000           7.000000      196.392500  \n",
            "max      16.000000          46.000000      324.990000  \n"
          ]
        }
      ]
    },
    {
      "cell_type": "markdown",
      "source": [
        "=> isna columns are numeric columns"
      ],
      "metadata": {
        "id": "ikVF0sSpo0DM"
      }
    },
    {
      "cell_type": "code",
      "source": [
        "# Tenure, HourSpendOnApp, CouponUsed, DaySinceLastOrder have 0 in values => replace 0\n",
        "df['Tenure'].fillna(0, inplace=True)\n",
        "df['HourSpendOnApp'].fillna(0, inplace=True)\n",
        "df['CouponUsed'].fillna(0, inplace=True)\n",
        "df['DaySinceLastOrder'].fillna(0, inplace=True)"
      ],
      "metadata": {
        "id": "EuGA8nxwp9lo"
      },
      "execution_count": null,
      "outputs": []
    },
    {
      "cell_type": "code",
      "source": [
        "# OrderAmountHikeFromlastYear is Percentage increases in order from last year\n",
        "# If the number orders last year = the number orders in this year => can have 0 in values => replace 0\n",
        "df['OrderAmountHikeFromlastYear'].fillna(0, inplace=True)\n",
        "\n",
        "# OrderCount is Total number of orders has been places in last month\n",
        "# If the customer did not buy anything last month => can have 0 in values => replace 0\n",
        "df['OrderCount'].fillna(0, inplace=True)"
      ],
      "metadata": {
        "id": "Y1woXzki2Wna"
      },
      "execution_count": null,
      "outputs": []
    },
    {
      "cell_type": "code",
      "source": [
        "# WarehouseToHome  => don't have 0 in values\n",
        "# check outlier\n",
        "sns.boxplot(df['WarehouseToHome'])\n"
      ],
      "metadata": {
        "colab": {
          "base_uri": "https://localhost:8080/"
        },
        "id": "KVVGwv_9vRWc",
        "outputId": "6ee5aa2f-94bf-49b3-fb7e-82039fb6b9b3"
      },
      "execution_count": null,
      "outputs": [
        {
          "output_type": "execute_result",
          "data": {
            "text/plain": [
              "<Axes: ylabel='WarehouseToHome'>"
            ]
          },
          "metadata": {},
          "execution_count": 9
        },
        {
          "output_type": "display_data",
          "data": {
            "text/plain": [
              "<Figure size 640x480 with 1 Axes>"
            ],
            "image/png": "[encoded data removed]"
          },
          "metadata": {}
        }
      ]
    },
    {
      "cell_type": "code",
      "source": [
        "# WarehouseToHome can cover outliers => replace median\n",
        "WarehouseToHome_median = df['WarehouseToHome'].median()\n",
        "df['WarehouseToHome'].fillna(WarehouseToHome_median, inplace=True)\n",
        "\n",
        "print(df.isna().sum())"
      ],
      "metadata": {
        "id": "zUTM68BM1yDj",
        "colab": {
          "base_uri": "https://localhost:8080/"
        },
        "outputId": "752ac5d1-d470-4dd4-9752-a5a62797f47d"
      },
      "execution_count": null,
      "outputs": [
        {
          "output_type": "stream",
          "name": "stdout",
          "text": [
            "CustomerID                     0\n",
            "Churn                          0\n",
            "Tenure                         0\n",
            "PreferredLoginDevice           0\n",
            "CityTier                       0\n",
            "WarehouseToHome                0\n",
            "PreferredPaymentMode           0\n",
            "Gender                         0\n",
            "HourSpendOnApp                 0\n",
            "NumberOfDeviceRegistered       0\n",
            "PreferedOrderCat               0\n",
            "SatisfactionScore              0\n",
            "MaritalStatus                  0\n",
            "NumberOfAddress                0\n",
            "Complain                       0\n",
            "OrderAmountHikeFromlastYear    0\n",
            "CouponUsed                     0\n",
            "OrderCount                     0\n",
            "DaySinceLastOrder              0\n",
            "CashbackAmount                 0\n",
            "dtype: int64\n"
          ]
        }
      ]
    },
    {
      "cell_type": "code",
      "source": [
        "df.duplicated().any()"
      ],
      "metadata": {
        "colab": {
          "base_uri": "https://localhost:8080/"
        },
        "id": "Hwi1nqh758uE",
        "outputId": "baba2cfa-d987-4e95-f88f-49d53d18aa65"
      },
      "execution_count": null,
      "outputs": [
        {
          "output_type": "execute_result",
          "data": {
            "text/plain": [
              "False"
            ]
          },
          "metadata": {},
          "execution_count": 11
        }
      ]
    },
    {
      "cell_type": "markdown",
      "source": [
        "### **Check imbalanced**"
      ],
      "metadata": {
        "id": "v9ay3gg-9D-S"
      }
    },
    {
      "cell_type": "code",
      "source": [
        "label_ratio = df['Churn'].value_counts(normalize=True)\n",
        "label_ratio"
      ],
      "metadata": {
        "colab": {
          "base_uri": "https://localhost:8080/",
          "height": 178
        },
        "id": "8SOZVWHm9GNf",
        "outputId": "f7c793e3-8cc5-4ab7-ae18-bba955f85f4a"
      },
      "execution_count": null,
      "outputs": [
        {
          "output_type": "execute_result",
          "data": {
            "text/plain": [
              "Churn\n",
              "0    0.831616\n",
              "1    0.168384\n",
              "Name: proportion, dtype: float64"
            ],
            "text/html": [
              "<div>\n",
              "<style scoped>\n",
              "    .dataframe tbody tr th:only-of-type {\n",
              "        vertical-align: middle;\n",
              "    }\n",
              "\n",
              "    .dataframe tbody tr th {\n",
              "        vertical-align: top;\n",
              "    }\n",
              "\n",
              "    .dataframe thead th {\n",
              "        text-align: right;\n",
              "    }\n",
              "</style>\n",
              "<table border=\"1\" class=\"dataframe\">\n",
              "  <thead>\n",
              "    <tr style=\"text-align: right;\">\n",
              "      <th></th>\n",
              "      <th>proportion</th>\n",
              "    </tr>\n",
              "    <tr>\n",
              "      <th>Churn</th>\n",
              "      <th></th>\n",
              "    </tr>\n",
              "  </thead>\n",
              "  <tbody>\n",
              "    <tr>\n",
              "      <th>0</th>\n",
              "      <td>0.831616</td>\n",
              "    </tr>\n",
              "    <tr>\n",
              "      <th>1</th>\n",
              "      <td>0.168384</td>\n",
              "    </tr>\n",
              "  </tbody>\n",
              "</table>\n",
              "</div><br><label><b>dtype:</b> float64</label>"
            ]
          },
          "metadata": {},
          "execution_count": 12
        }
      ]
    },
    {
      "cell_type": "markdown",
      "source": [
        "The ration of label 1 on total is 16% => We can continue with the EDA and ML model"
      ],
      "metadata": {
        "id": "hUAP7pX99RW-"
      }
    },
    {
      "cell_type": "markdown",
      "source": [
        "### **Univariate Analysis**"
      ],
      "metadata": {
        "id": "AdgSsNEZ9owE"
      }
    },
    {
      "cell_type": "code",
      "source": [
        "df.dtypes.unique()"
      ],
      "metadata": {
        "colab": {
          "base_uri": "https://localhost:8080/"
        },
        "id": "oGR9CfWy9ptd",
        "outputId": "b491e2b0-07ec-42f4-f3b4-adbfda13d90a"
      },
      "execution_count": null,
      "outputs": [
        {
          "output_type": "execute_result",
          "data": {
            "text/plain": [
              "array([dtype('int64'), dtype('float64'), dtype('O')], dtype=object)"
            ]
          },
          "metadata": {},
          "execution_count": 13
        }
      ]
    },
    {
      "cell_type": "code",
      "source": [
        "obj_cols = df.select_dtypes(include=['object'])\n",
        "num_cols = df.select_dtypes(exclude=['object'])"
      ],
      "metadata": {
        "id": "Fo9ttLYu-AV6"
      },
      "execution_count": null,
      "outputs": []
    },
    {
      "cell_type": "code",
      "source": [
        "num_cols.nunique()"
      ],
      "metadata": {
        "colab": {
          "base_uri": "https://localhost:8080/",
          "height": 554
        },
        "id": "KMEzoyD3-MHz",
        "outputId": "401e6d1d-415f-4678-d9ac-0ea0b4d353b1"
      },
      "execution_count": null,
      "outputs": [
        {
          "output_type": "execute_result",
          "data": {
            "text/plain": [
              "CustomerID                     5630\n",
              "Churn                             2\n",
              "Tenure                           36\n",
              "CityTier                          3\n",
              "WarehouseToHome                  34\n",
              "HourSpendOnApp                    6\n",
              "NumberOfDeviceRegistered          6\n",
              "SatisfactionScore                 5\n",
              "NumberOfAddress                  15\n",
              "Complain                          2\n",
              "OrderAmountHikeFromlastYear      17\n",
              "CouponUsed                       17\n",
              "OrderCount                       17\n",
              "DaySinceLastOrder                22\n",
              "CashbackAmount                 2586\n",
              "dtype: int64"
            ],
            "text/html": [
              "<div>\n",
              "<style scoped>\n",
              "    .dataframe tbody tr th:only-of-type {\n",
              "        vertical-align: middle;\n",
              "    }\n",
              "\n",
              "    .dataframe tbody tr th {\n",
              "        vertical-align: top;\n",
              "    }\n",
              "\n",
              "    .dataframe thead th {\n",
              "        text-align: right;\n",
              "    }\n",
              "</style>\n",
              "<table border=\"1\" class=\"dataframe\">\n",
              "  <thead>\n",
              "    <tr style=\"text-align: right;\">\n",
              "      <th></th>\n",
              "      <th>0</th>\n",
              "    </tr>\n",
              "  </thead>\n",
              "  <tbody>\n",
              "    <tr>\n",
              "      <th>CustomerID</th>\n",
              "      <td>5630</td>\n",
              "    </tr>\n",
              "    <tr>\n",
              "      <th>Churn</th>\n",
              "      <td>2</td>\n",
              "    </tr>\n",
              "    <tr>\n",
              "      <th>Tenure</th>\n",
              "      <td>36</td>\n",
              "    </tr>\n",
              "    <tr>\n",
              "      <th>CityTier</th>\n",
              "      <td>3</td>\n",
              "    </tr>\n",
              "    <tr>\n",
              "      <th>WarehouseToHome</th>\n",
              "      <td>34</td>\n",
              "    </tr>\n",
              "    <tr>\n",
              "      <th>HourSpendOnApp</th>\n",
              "      <td>6</td>\n",
              "    </tr>\n",
              "    <tr>\n",
              "      <th>NumberOfDeviceRegistered</th>\n",
              "      <td>6</td>\n",
              "    </tr>\n",
              "    <tr>\n",
              "      <th>SatisfactionScore</th>\n",
              "      <td>5</td>\n",
              "    </tr>\n",
              "    <tr>\n",
              "      <th>NumberOfAddress</th>\n",
              "      <td>15</td>\n",
              "    </tr>\n",
              "    <tr>\n",
              "      <th>Complain</th>\n",
              "      <td>2</td>\n",
              "    </tr>\n",
              "    <tr>\n",
              "      <th>OrderAmountHikeFromlastYear</th>\n",
              "      <td>17</td>\n",
              "    </tr>\n",
              "    <tr>\n",
              "      <th>CouponUsed</th>\n",
              "      <td>17</td>\n",
              "    </tr>\n",
              "    <tr>\n",
              "      <th>OrderCount</th>\n",
              "      <td>17</td>\n",
              "    </tr>\n",
              "    <tr>\n",
              "      <th>DaySinceLastOrder</th>\n",
              "      <td>22</td>\n",
              "    </tr>\n",
              "    <tr>\n",
              "      <th>CashbackAmount</th>\n",
              "      <td>2586</td>\n",
              "    </tr>\n",
              "  </tbody>\n",
              "</table>\n",
              "</div><br><label><b>dtype:</b> int64</label>"
            ]
          },
          "metadata": {},
          "execution_count": 15
        }
      ]
    },
    {
      "cell_type": "markdown",
      "source": [
        "As showing the unique values of each numeric columns, there are 5 columns have low unique values (less than 10 values), which are CityTier, HourSpendOnApp, NumberOfDeviceRegistered, SatisfactionScore and Complain.\n",
        "\n",
        "&#8594; CityTier have dtype = numeric but have category meaning. => convert to object\n",
        "\n",
        "&#8594; HourSpendOnApp, NumberOfDeviceRegistered, SatisfactionScore, Complain have dtype = numeric but don't have category meaning."
      ],
      "metadata": {
        "id": "jjXovCAA_BrI"
      }
    },
    {
      "cell_type": "code",
      "source": [
        "df['CityTier'] = df['CityTier'].astype(object)\n",
        "\n",
        "print(df.info())"
      ],
      "metadata": {
        "colab": {
          "base_uri": "https://localhost:8080/"
        },
        "id": "m9-o-w_9BqJw",
        "outputId": "99262397-141e-49b5-a111-d4f21a0ca607"
      },
      "execution_count": null,
      "outputs": [
        {
          "output_type": "stream",
          "name": "stdout",
          "text": [
            "<class 'pandas.core.frame.DataFrame'>\n",
            "RangeIndex: 5630 entries, 0 to 5629\n",
            "Data columns (total 20 columns):\n",
            " #   Column                       Non-Null Count  Dtype  \n",
            "---  ------                       --------------  -----  \n",
            " 0   CustomerID                   5630 non-null   int64  \n",
            " 1   Churn                        5630 non-null   int64  \n",
            " 2   Tenure                       5630 non-null   float64\n",
            " 3   PreferredLoginDevice         5630 non-null   object \n",
            " 4   CityTier                     5630 non-null   object \n",
            " 5   WarehouseToHome              5630 non-null   float64\n",
            " 6   PreferredPaymentMode         5630 non-null   object \n",
            " 7   Gender                       5630 non-null   object \n",
            " 8   HourSpendOnApp               5630 non-null   float64\n",
            " 9   NumberOfDeviceRegistered     5630 non-null   int64  \n",
            " 10  PreferedOrderCat             5630 non-null   object \n",
            " 11  SatisfactionScore            5630 non-null   int64  \n",
            " 12  MaritalStatus                5630 non-null   object \n",
            " 13  NumberOfAddress              5630 non-null   int64  \n",
            " 14  Complain                     5630 non-null   int64  \n",
            " 15  OrderAmountHikeFromlastYear  5630 non-null   float64\n",
            " 16  CouponUsed                   5630 non-null   float64\n",
            " 17  OrderCount                   5630 non-null   float64\n",
            " 18  DaySinceLastOrder            5630 non-null   float64\n",
            " 19  CashbackAmount               5630 non-null   float64\n",
            "dtypes: float64(8), int64(6), object(6)\n",
            "memory usage: 879.8+ KB\n",
            "None\n"
          ]
        }
      ]
    },
    {
      "cell_type": "markdown",
      "source": [
        "## 2. Transforms Features"
      ],
      "metadata": {
        "id": "4I-npZIM5K5b"
      }
    },
    {
      "cell_type": "code",
      "source": [
        "list_columns = ['PreferredLoginDevice','CityTier','PreferredPaymentMode','Gender','PreferedOrderCat','MaritalStatus']\n",
        "data_encoded = pd.get_dummies(df, columns=list_columns, dtype='int')\n",
        "data_encoded = data_encoded.drop(columns=['CustomerID'])\n",
        "\n",
        "print(data_encoded.head())"
      ],
      "metadata": {
        "id": "uv8EpYeT5h9N",
        "colab": {
          "base_uri": "https://localhost:8080/"
        },
        "outputId": "982b8b82-b9f8-4540-a542-70c105707bd7"
      },
      "execution_count": null,
      "outputs": [
        {
          "output_type": "stream",
          "name": "stdout",
          "text": [
            "   Churn  Tenure  WarehouseToHome  HourSpendOnApp  NumberOfDeviceRegistered  \\\n",
            "0      0    20.0              7.0             4.0                         4   \n",
            "1      0    13.0              9.0             4.0                         4   \n",
            "2      0    16.0              7.0             3.0                         4   \n",
            "3      0     5.0             16.0             3.0                         4   \n",
            "4      0     9.0             28.0             3.0                         4   \n",
            "\n",
            "   SatisfactionScore  NumberOfAddress  Complain  OrderAmountHikeFromlastYear  \\\n",
            "0                  5                3         0                         26.0   \n",
            "1                  3                2         0                         26.0   \n",
            "2                  3                3         0                         26.0   \n",
            "3                  4                3         0                         26.0   \n",
            "4                  2                3         1                         26.0   \n",
            "\n",
            "   CouponUsed  ...  Gender_Male  PreferedOrderCat_Fashion  \\\n",
            "0         5.0  ...            0                         1   \n",
            "1        11.0  ...            0                         1   \n",
            "2         5.0  ...            1                         0   \n",
            "3         2.0  ...            1                         1   \n",
            "4         1.0  ...            0                         0   \n",
            "\n",
            "   PreferedOrderCat_Grocery  PreferedOrderCat_Laptop & Accessory  \\\n",
            "0                         0                                    0   \n",
            "1                         0                                    0   \n",
            "2                         0                                    1   \n",
            "3                         0                                    0   \n",
            "4                         0                                    1   \n",
            "\n",
            "   PreferedOrderCat_Mobile  PreferedOrderCat_Mobile Phone  \\\n",
            "0                        0                              0   \n",
            "1                        0                              0   \n",
            "2                        0                              0   \n",
            "3                        0                              0   \n",
            "4                        0                              0   \n",
            "\n",
            "   PreferedOrderCat_Others  MaritalStatus_Divorced  MaritalStatus_Married  \\\n",
            "0                        0                       0                      1   \n",
            "1                        0                       0                      0   \n",
            "2                        0                       1                      0   \n",
            "3                        0                       0                      1   \n",
            "4                        0                       1                      0   \n",
            "\n",
            "   MaritalStatus_Single  \n",
            "0                     0  \n",
            "1                     1  \n",
            "2                     0  \n",
            "3                     0  \n",
            "4                     0  \n",
            "\n",
            "[5 rows x 37 columns]\n"
          ]
        }
      ]
    },
    {
      "cell_type": "markdown",
      "source": [
        "## 3. Apply base Random Forest model"
      ],
      "metadata": {
        "id": "pZ2h__ks5iUz"
      }
    },
    {
      "cell_type": "markdown",
      "source": [
        "### **Split train/test set & Normalization**"
      ],
      "metadata": {
        "id": "PgCdDulHTY9V"
      }
    },
    {
      "cell_type": "code",
      "source": [
        "from sklearn.model_selection import train_test_split\n",
        "x=data_encoded.drop('Churn', axis = 1)\n",
        "y=data_encoded[['Churn']]\n",
        "\n",
        "\n",
        "x_train, x_test, y_train, y_test = train_test_split(x,y, test_size=0.3, random_state=42)\n",
        "\n",
        "print(f\"Number data of train set: {len(x_train)}\")\n",
        "print(f\"Number data of test set: {len(x_test)}\")"
      ],
      "metadata": {
        "colab": {
          "base_uri": "https://localhost:8080/"
        },
        "id": "z-sYeFJ4HUxK",
        "outputId": "37a50524-11ca-40a1-d283-e10a86223997"
      },
      "execution_count": null,
      "outputs": [
        {
          "output_type": "stream",
          "name": "stdout",
          "text": [
            "Number data of train set: 3941\n",
            "Number data of test set: 1689\n"
          ]
        }
      ]
    },
    {
      "cell_type": "code",
      "source": [
        "from sklearn.preprocessing import MinMaxScaler\n",
        "\n",
        "#Scale Feature:\n",
        "scaler = MinMaxScaler()\n",
        "scaler.fit(x_train)\n",
        "\n",
        "x_train_scaled = scaler.transform(x_train)\n",
        "x_test_scaled = scaler.transform(x_test)"
      ],
      "metadata": {
        "id": "qAdXfCuwOe8o"
      },
      "execution_count": null,
      "outputs": []
    },
    {
      "cell_type": "markdown",
      "source": [
        "### **Random Forest Classifier**"
      ],
      "metadata": {
        "id": "XLoWiVnYToIb"
      }
    },
    {
      "cell_type": "code",
      "source": [
        "from sklearn.ensemble import RandomForestClassifier\n",
        "from sklearn.metrics import accuracy_score, confusion_matrix\n",
        "# Train a Random Forest classifier\n",
        "classifier = RandomForestClassifier(random_state=42)\n",
        "classifier.fit(x_train_scaled, y_train)\n",
        "\n",
        "# Make predictions\n",
        "y_pred = classifier.predict(x_test_scaled)\n",
        "\n",
        "# Evaluate the model\n",
        "RandomForest_accuracy = accuracy_score(y_test, y_pred)\n",
        "RandomForest_conf_matrix = confusion_matrix(y_test, y_pred)\n",
        "\n",
        "print(f'Accuracy: {RandomForest_accuracy:.2f}')\n",
        "print(f'Confusion Matrix:\\n{RandomForest_conf_matrix}')\n"
      ],
      "metadata": {
        "id": "t23ABaN-O10f",
        "colab": {
          "base_uri": "https://localhost:8080/"
        },
        "outputId": "a7bbc071-e199-4fa5-ff54-abe764497550"
      },
      "execution_count": null,
      "outputs": [
        {
          "output_type": "stream",
          "name": "stdout",
          "text": [
            "Accuracy: 0.94\n",
            "Confusion Matrix:\n",
            "[[1369   18]\n",
            " [  79  223]]\n"
          ]
        }
      ]
    },
    {
      "cell_type": "markdown",
      "source": [
        "=> Chỉ số accuracy trên tập test là 94% nghĩa là model này có dự đoán đúng, importance feature đúng."
      ],
      "metadata": {
        "id": "P5e0TXdsS2Fw"
      }
    },
    {
      "cell_type": "markdown",
      "source": [
        "## 4. Show Feature Importance from model"
      ],
      "metadata": {
        "id": "m0q2qOHn5odG"
      }
    },
    {
      "cell_type": "code",
      "source": [
        "clf_rand = RandomForestClassifier(max_depth=2, random_state=0)\n",
        "\n",
        "clf_rand.fit(x_train_scaled, y_train)\n",
        "y_ranf_pre_train = clf_rand.predict(x_train_scaled)\n",
        "y_ranf_pre_test = clf_rand.predict(x_test_scaled)"
      ],
      "metadata": {
        "id": "kchnCYsV9TRA"
      },
      "execution_count": null,
      "outputs": []
    },
    {
      "cell_type": "code",
      "source": [
        "feats = {} # a dict to hold feature_name: feature_importance\n",
        "for feature, importance in zip(x_test.columns, clf_rand.feature_importances_):\n",
        "    feats[feature] = importance #add the name/value pair\n",
        "\n",
        "importances = pd.DataFrame.from_dict(feats, orient='index').rename(columns={0: 'Gini-importance'})\n",
        "importances = importances.sort_values(by='Gini-importance', ascending=True)\n",
        "\n",
        "importances = importances.reset_index()\n",
        "\n",
        "# Create bar chart\n",
        "plt.figure(figsize=(10, 10))\n",
        "plt.barh(importances.tail(20)['index'][:20], importances.tail(20)['Gini-importance'])\n",
        "\n",
        "plt.title('Feature Important')\n",
        "\n",
        "# Show plot\n",
        "plt.show()"
      ],
      "metadata": {
        "colab": {
          "base_uri": "https://localhost:8080/",
          "height": 853
        },
        "id": "xDGQA4G4O8ZN",
        "outputId": "5b7f0ccf-e829-4523-9183-7981b4b842df"
      },
      "execution_count": null,
      "outputs": [
        {
          "output_type": "display_data",
          "data": {
            "text/plain": [
              "<Figure size 1000x1000 with 1 Axes>"
            ],
            "image/png": "[encoded data removed]"
          },
          "metadata": {}
        }
      ]
    },
    {
      "cell_type": "markdown",
      "source": [
        "=> Từ biểu đồ Feature Important chọn ra 6 feature cao nhất là: Tenure, Complain, DaySinceLastOrder, CashbackAmount, MaritalStatus_Single, PreferedOrderCat_Mobile Phone."
      ],
      "metadata": {
        "id": "DxCld4yT9fgv"
      }
    },
    {
      "cell_type": "markdown",
      "source": [
        "## 5. Choose top n features to analyse"
      ],
      "metadata": {
        "id": "VG-FwfgjPYBS"
      }
    },
    {
      "cell_type": "code",
      "source": [
        "# Get CustomerID and Feature Important\n",
        "Feature_Important = data_encoded[['Churn','Tenure', 'Complain', 'DaySinceLastOrder', 'CashbackAmount', 'MaritalStatus_Single', 'PreferedOrderCat_Mobile Phone']]\n",
        "\n",
        "print(Feature_Important)"
      ],
      "metadata": {
        "colab": {
          "base_uri": "https://localhost:8080/"
        },
        "id": "B7t4EAQDch5e",
        "outputId": "f55198d2-0ac2-45e3-ad2e-b6d7bd29e91a"
      },
      "execution_count": null,
      "outputs": [
        {
          "output_type": "stream",
          "name": "stdout",
          "text": [
            "      Churn  Tenure  Complain  DaySinceLastOrder  CashbackAmount  \\\n",
            "0         0    20.0         0                0.0          229.53   \n",
            "1         0    13.0         0                9.0          234.38   \n",
            "2         0    16.0         0                7.0          174.07   \n",
            "3         0     5.0         0                9.0          231.48   \n",
            "4         0     9.0         1                8.0          165.14   \n",
            "...     ...     ...       ...                ...             ...   \n",
            "5625      0    61.0         1                1.0          303.75   \n",
            "5626      0    23.0         0                4.0          316.61   \n",
            "5627      0    29.0         1                5.0          321.36   \n",
            "5628      0    13.0         0                4.0          319.31   \n",
            "5629      0    16.0         0               15.0          313.80   \n",
            "\n",
            "      MaritalStatus_Single  PreferedOrderCat_Mobile Phone  \n",
            "0                        0                              0  \n",
            "1                        1                              0  \n",
            "2                        0                              0  \n",
            "3                        0                              0  \n",
            "4                        0                              0  \n",
            "...                    ...                            ...  \n",
            "5625                     0                              0  \n",
            "5626                     0                              0  \n",
            "5627                     0                              0  \n",
            "5628                     1                              0  \n",
            "5629                     0                              0  \n",
            "\n",
            "[5630 rows x 7 columns]\n"
          ]
        }
      ]
    },
    {
      "cell_type": "code",
      "source": [
        "# Get the churning users\n",
        "Feature_Important = Feature_Important[Feature_Important['Churn']==1]"
      ],
      "metadata": {
        "id": "PpOd2gFNc16o"
      },
      "execution_count": null,
      "outputs": []
    },
    {
      "cell_type": "code",
      "source": [
        "Feature_Important = Feature_Important.drop(columns=['Churn'])\n",
        "print(Feature_Important)"
      ],
      "metadata": {
        "colab": {
          "base_uri": "https://localhost:8080/"
        },
        "id": "VnQLL2CIc_0H",
        "outputId": "84b42558-659b-42b9-d846-57fe5624e256"
      },
      "execution_count": null,
      "outputs": [
        {
          "output_type": "stream",
          "name": "stdout",
          "text": [
            "      Tenure  Complain  DaySinceLastOrder  CashbackAmount  \\\n",
            "7        1.0         1                1.0          143.59   \n",
            "24       1.0         1                1.0          143.59   \n",
            "40       0.0         1                0.0          118.59   \n",
            "58       0.0         1                0.0          118.59   \n",
            "68       1.0         1                7.0          185.74   \n",
            "...      ...       ...                ...             ...   \n",
            "5469    21.0         1                9.0          317.46   \n",
            "5494     9.0         1               12.0          313.24   \n",
            "5531     5.0         0                9.0          320.45   \n",
            "5571    21.0         1                9.0          317.46   \n",
            "5596     9.0         1               12.0          313.24   \n",
            "\n",
            "      MaritalStatus_Single  PreferedOrderCat_Mobile Phone  \n",
            "7                        1                              1  \n",
            "24                       1                              1  \n",
            "40                       1                              1  \n",
            "58                       1                              1  \n",
            "68                       1                              0  \n",
            "...                    ...                            ...  \n",
            "5469                     1                              0  \n",
            "5494                     1                              0  \n",
            "5531                     0                              0  \n",
            "5571                     1                              0  \n",
            "5596                     1                              0  \n",
            "\n",
            "[948 rows x 6 columns]\n"
          ]
        }
      ]
    },
    {
      "cell_type": "markdown",
      "source": [
        "# **QUESTION 3**"
      ],
      "metadata": {
        "id": "drpwRmS28kIU"
      }
    },
    {
      "cell_type": "markdown",
      "source": [
        "## 1. EDA again"
      ],
      "metadata": {
        "id": "8PSldh6z8rT_"
      }
    },
    {
      "cell_type": "markdown",
      "source": [
        "### **Dimension Reduction**"
      ],
      "metadata": {
        "id": "k2e_t4iURVO3"
      }
    },
    {
      "cell_type": "code",
      "source": [
        "from sklearn.decomposition import PCA\n",
        "pca = PCA(n_components=3)\n",
        "pca.fit(Feature_Important)\n",
        "PCA_ds = pd.DataFrame(pca.transform(Feature_Important), columns=([\"col1\",\"col2\", \"col3\"]))\n",
        "PCA_ds"
      ],
      "metadata": {
        "colab": {
          "base_uri": "https://localhost:8080/",
          "height": 423
        },
        "id": "1iN2LLHxLD31",
        "outputId": "11a0c810-dca5-4165-8e03-144aefb111c1"
      },
      "execution_count": null,
      "outputs": [
        {
          "output_type": "execute_result",
          "data": {
            "text/plain": [
              "           col1      col2      col3\n",
              "0    -16.931891 -1.073047 -1.561731\n",
              "1    -16.931891 -1.073047 -1.561731\n",
              "2    -41.964549 -0.547315 -1.846991\n",
              "3    -41.964549 -0.547315 -1.846991\n",
              "4     25.297365 -3.626407  3.240823\n",
              "..          ...       ...       ...\n",
              "943  157.993669  8.296819  1.406357\n",
              "944  153.137796 -3.413477  4.581902\n",
              "945  160.003438 -7.848773  1.389683\n",
              "946  157.993669  8.296819  1.406357\n",
              "947  153.137796 -3.413477  4.581902\n",
              "\n",
              "[948 rows x 3 columns]"
            ],
            "text/html": [
              "\n",
              "  <div id=\"df-04179fda-6970-490d-8109-ea1ac4714aaf\" class=\"colab-df-container\">\n",
              "    <div>\n",
              "<style scoped>\n",
              "    .dataframe tbody tr th:only-of-type {\n",
              "        vertical-align: middle;\n",
              "    }\n",
              "\n",
              "    .dataframe tbody tr th {\n",
              "        vertical-align: top;\n",
              "    }\n",
              "\n",
              "    .dataframe thead th {\n",
              "        text-align: right;\n",
              "    }\n",
              "</style>\n",
              "<table border=\"1\" class=\"dataframe\">\n",
              "  <thead>\n",
              "    <tr style=\"text-align: right;\">\n",
              "      <th></th>\n",
              "      <th>col1</th>\n",
              "      <th>col2</th>\n",
              "      <th>col3</th>\n",
              "    </tr>\n",
              "  </thead>\n",
              "  <tbody>\n",
              "    <tr>\n",
              "      <th>0</th>\n",
              "      <td>-16.931891</td>\n",
              "      <td>-1.073047</td>\n",
              "      <td>-1.561731</td>\n",
              "    </tr>\n",
              "    <tr>\n",
              "      <th>1</th>\n",
              "      <td>-16.931891</td>\n",
              "      <td>-1.073047</td>\n",
              "      <td>-1.561731</td>\n",
              "    </tr>\n",
              "    <tr>\n",
              "      <th>2</th>\n",
              "      <td>-41.964549</td>\n",
              "      <td>-0.547315</td>\n",
              "      <td>-1.846991</td>\n",
              "    </tr>\n",
              "    <tr>\n",
              "      <th>3</th>\n",
              "      <td>-41.964549</td>\n",
              "      <td>-0.547315</td>\n",
              "      <td>-1.846991</td>\n",
              "    </tr>\n",
              "    <tr>\n",
              "      <th>4</th>\n",
              "      <td>25.297365</td>\n",
              "      <td>-3.626407</td>\n",
              "      <td>3.240823</td>\n",
              "    </tr>\n",
              "    <tr>\n",
              "      <th>...</th>\n",
              "      <td>...</td>\n",
              "      <td>...</td>\n",
              "      <td>...</td>\n",
              "    </tr>\n",
              "    <tr>\n",
              "      <th>943</th>\n",
              "      <td>157.993669</td>\n",
              "      <td>8.296819</td>\n",
              "      <td>1.406357</td>\n",
              "    </tr>\n",
              "    <tr>\n",
              "      <th>944</th>\n",
              "      <td>153.137796</td>\n",
              "      <td>-3.413477</td>\n",
              "      <td>4.581902</td>\n",
              "    </tr>\n",
              "    <tr>\n",
              "      <th>945</th>\n",
              "      <td>160.003438</td>\n",
              "      <td>-7.848773</td>\n",
              "      <td>1.389683</td>\n",
              "    </tr>\n",
              "    <tr>\n",
              "      <th>946</th>\n",
              "      <td>157.993669</td>\n",
              "      <td>8.296819</td>\n",
              "      <td>1.406357</td>\n",
              "    </tr>\n",
              "    <tr>\n",
              "      <th>947</th>\n",
              "      <td>153.137796</td>\n",
              "      <td>-3.413477</td>\n",
              "      <td>4.581902</td>\n",
              "    </tr>\n",
              "  </tbody>\n",
              "</table>\n",
              "<p>948 rows × 3 columns</p>\n",
              "</div>\n",
              "    <div class=\"colab-df-buttons\">\n",
              "\n",
              "  <div class=\"colab-df-container\">\n",
              "    <button class=\"colab-df-convert\" onclick=\"convertToInteractive('df-04179fda-6970-490d-8109-ea1ac4714aaf')\"\n",
              "            title=\"Convert this dataframe to an interactive table.\"\n",
              "            style=\"display:none;\">\n",
              "\n",
              "  <svg xmlns=\"http://www.w3.org/2000/svg\" height=\"24px\" viewBox=\"0 -960 960 960\">\n",
              "    <path d=\"M120-120v-720h720v720H120Zm60-500h600v-160H180v160Zm220 220h160v-160H400v160Zm0 220h160v-160H400v160ZM180-400h160v-160H180v160Zm440 0h160v-160H620v160ZM180-180h160v-160H180v160Zm440 0h160v-160H620v160Z\"/>\n",
              "  </svg>\n",
              "    </button>\n",
              "\n",
              "  <style>\n",
              "    .colab-df-container {\n",
              "      display:flex;\n",
              "      gap: 12px;\n",
              "    }\n",
              "\n",
              "    .colab-df-convert {\n",
              "      background-color: #E8F0FE;\n",
              "      border: none;\n",
              "      border-radius: 50%;\n",
              "      cursor: pointer;\n",
              "      display: none;\n",
              "      fill: #1967D2;\n",
              "      height: 32px;\n",
              "      padding: 0 0 0 0;\n",
              "      width: 32px;\n",
              "    }\n",
              "\n",
              "    .colab-df-convert:hover {\n",
              "      background-color: #E2EBFA;\n",
              "      box-shadow: 0px 1px 2px rgba(60, 64, 67, 0.3), 0px 1px 3px 1px rgba(60, 64, 67, 0.15);\n",
              "      fill: #174EA6;\n",
              "    }\n",
              "\n",
              "    .colab-df-buttons div {\n",
              "      margin-bottom: 4px;\n",
              "    }\n",
              "\n",
              "    [theme=dark] .colab-df-convert {\n",
              "      background-color: #3B4455;\n",
              "      fill: #D2E3FC;\n",
              "    }\n",
              "\n",
              "    [theme=dark] .colab-df-convert:hover {\n",
              "      background-color: #434B5C;\n",
              "      box-shadow: 0px 1px 3px 1px rgba(0, 0, 0, 0.15);\n",
              "      filter: drop-shadow(0px 1px 2px rgba(0, 0, 0, 0.3));\n",
              "      fill: #FFFFFF;\n",
              "    }\n",
              "  </style>\n",
              "\n",
              "    <script>\n",
              "      const buttonEl =\n",
              "        document.querySelector('#df-04179fda-6970-490d-8109-ea1ac4714aaf button.colab-df-convert');\n",
              "      buttonEl.style.display =\n",
              "        google.colab.kernel.accessAllowed ? 'block' : 'none';\n",
              "\n",
              "      async function convertToInteractive(key) {\n",
              "        const element = document.querySelector('#df-04179fda-6970-490d-8109-ea1ac4714aaf');\n",
              "        const dataTable =\n",
              "          await google.colab.kernel.invokeFunction('convertToInteractive',\n",
              "                                                    [key], {});\n",
              "        if (!dataTable) return;\n",
              "\n",
              "        const docLinkHtml = 'Like what you see? Visit the ' +\n",
              "          '<a target=\"_blank\" href=https://colab.research.google.com/notebooks/data_table.ipynb>data table notebook</a>'\n",
              "          + ' to learn more about interactive tables.';\n",
              "        element.innerHTML = '';\n",
              "        dataTable['output_type'] = 'display_data';\n",
              "        await google.colab.output.renderOutput(dataTable, element);\n",
              "        const docLink = document.createElement('div');\n",
              "        docLink.innerHTML = docLinkHtml;\n",
              "        element.appendChild(docLink);\n",
              "      }\n",
              "    </script>\n",
              "  </div>\n",
              "\n",
              "\n",
              "<div id=\"df-aa901eb7-115d-4f6c-a165-cf687ee05be0\">\n",
              "  <button class=\"colab-df-quickchart\" onclick=\"quickchart('df-aa901eb7-115d-4f6c-a165-cf687ee05be0')\"\n",
              "            title=\"Suggest charts\"\n",
              "            style=\"display:none;\">\n",
              "\n",
              "<svg xmlns=\"http://www.w3.org/2000/svg\" height=\"24px\"viewBox=\"0 0 24 24\"\n",
              "     width=\"24px\">\n",
              "    <g>\n",
              "        <path d=\"M19 3H5c-1.1 0-2 .9-2 2v14c0 1.1.9 2 2 2h14c1.1 0 2-.9 2-2V5c0-1.1-.9-2-2-2zM9 17H7v-7h2v7zm4 0h-2V7h2v10zm4 0h-2v-4h2v4z\"/>\n",
              "    </g>\n",
              "</svg>\n",
              "  </button>\n",
              "\n",
              "<style>\n",
              "  .colab-df-quickchart {\n",
              "      --bg-color: #E8F0FE;\n",
              "      --fill-color: #1967D2;\n",
              "      --hover-bg-color: #E2EBFA;\n",
              "      --hover-fill-color: #174EA6;\n",
              "      --disabled-fill-color: #AAA;\n",
              "      --disabled-bg-color: #DDD;\n",
              "  }\n",
              "\n",
              "  [theme=dark] .colab-df-quickchart {\n",
              "      --bg-color: #3B4455;\n",
              "      --fill-color: #D2E3FC;\n",
              "      --hover-bg-color: #434B5C;\n",
              "      --hover-fill-color: #FFFFFF;\n",
              "      --disabled-bg-color: #3B4455;\n",
              "      --disabled-fill-color: #666;\n",
              "  }\n",
              "\n",
              "  .colab-df-quickchart {\n",
              "    background-color: var(--bg-color);\n",
              "    border: none;\n",
              "    border-radius: 50%;\n",
              "    cursor: pointer;\n",
              "    display: none;\n",
              "    fill: var(--fill-color);\n",
              "    height: 32px;\n",
              "    padding: 0;\n",
              "    width: 32px;\n",
              "  }\n",
              "\n",
              "  .colab-df-quickchart:hover {\n",
              "    background-color: var(--hover-bg-color);\n",
              "    box-shadow: 0 1px 2px rgba(60, 64, 67, 0.3), 0 1px 3px 1px rgba(60, 64, 67, 0.15);\n",
              "    fill: var(--button-hover-fill-color);\n",
              "  }\n",
              "\n",
              "  .colab-df-quickchart-complete:disabled,\n",
              "  .colab-df-quickchart-complete:disabled:hover {\n",
              "    background-color: var(--disabled-bg-color);\n",
              "    fill: var(--disabled-fill-color);\n",
              "    box-shadow: none;\n",
              "  }\n",
              "\n",
              "  .colab-df-spinner {\n",
              "    border: 2px solid var(--fill-color);\n",
              "    border-color: transparent;\n",
              "    border-bottom-color: var(--fill-color);\n",
              "    animation:\n",
              "      spin 1s steps(1) infinite;\n",
              "  }\n",
              "\n",
              "  @keyframes spin {\n",
              "    0% {\n",
              "      border-color: transparent;\n",
              "      border-bottom-color: var(--fill-color);\n",
              "      border-left-color: var(--fill-color);\n",
              "    }\n",
              "    20% {\n",
              "      border-color: transparent;\n",
              "      border-left-color: var(--fill-color);\n",
              "      border-top-color: var(--fill-color);\n",
              "    }\n",
              "    30% {\n",
              "      border-color: transparent;\n",
              "      border-left-color: var(--fill-color);\n",
              "      border-top-color: var(--fill-color);\n",
              "      border-right-color: var(--fill-color);\n",
              "    }\n",
              "    40% {\n",
              "      border-color: transparent;\n",
              "      border-right-color: var(--fill-color);\n",
              "      border-top-color: var(--fill-color);\n",
              "    }\n",
              "    60% {\n",
              "      border-color: transparent;\n",
              "      border-right-color: var(--fill-color);\n",
              "    }\n",
              "    80% {\n",
              "      border-color: transparent;\n",
              "      border-right-color: var(--fill-color);\n",
              "      border-bottom-color: var(--fill-color);\n",
              "    }\n",
              "    90% {\n",
              "      border-color: transparent;\n",
              "      border-bottom-color: var(--fill-color);\n",
              "    }\n",
              "  }\n",
              "</style>\n",
              "\n",
              "  <script>\n",
              "    async function quickchart(key) {\n",
              "      const quickchartButtonEl =\n",
              "        document.querySelector('#' + key + ' button');\n",
              "      quickchartButtonEl.disabled = true;  // To prevent multiple clicks.\n",
              "      quickchartButtonEl.classList.add('colab-df-spinner');\n",
              "      try {\n",
              "        const charts = await google.colab.kernel.invokeFunction(\n",
              "            'suggestCharts', [key], {});\n",
              "      } catch (error) {\n",
              "        console.error('Error during call to suggestCharts:', error);\n",
              "      }\n",
              "      quickchartButtonEl.classList.remove('colab-df-spinner');\n",
              "      quickchartButtonEl.classList.add('colab-df-quickchart-complete');\n",
              "    }\n",
              "    (() => {\n",
              "      let quickchartButtonEl =\n",
              "        document.querySelector('#df-aa901eb7-115d-4f6c-a165-cf687ee05be0 button');\n",
              "      quickchartButtonEl.style.display =\n",
              "        google.colab.kernel.accessAllowed ? 'block' : 'none';\n",
              "    })();\n",
              "  </script>\n",
              "</div>\n",
              "\n",
              "  <div id=\"id_7b4b1501-b431-4661-b597-e4c54231266d\">\n",
              "    <style>\n",
              "      .colab-df-generate {\n",
              "        background-color: #E8F0FE;\n",
              "        border: none;\n",
              "        border-radius: 50%;\n",
              "        cursor: pointer;\n",
              "        display: none;\n",
              "        fill: #1967D2;\n",
              "        height: 32px;\n",
              "        padding: 0 0 0 0;\n",
              "        width: 32px;\n",
              "      }\n",
              "\n",
              "      .colab-df-generate:hover {\n",
              "        background-color: #E2EBFA;\n",
              "        box-shadow: 0px 1px 2px rgba(60, 64, 67, 0.3), 0px 1px 3px 1px rgba(60, 64, 67, 0.15);\n",
              "        fill: #174EA6;\n",
              "      }\n",
              "\n",
              "      [theme=dark] .colab-df-generate {\n",
              "        background-color: #3B4455;\n",
              "        fill: #D2E3FC;\n",
              "      }\n",
              "\n",
              "      [theme=dark] .colab-df-generate:hover {\n",
              "        background-color: #434B5C;\n",
              "        box-shadow: 0px 1px 3px 1px rgba(0, 0, 0, 0.15);\n",
              "        filter: drop-shadow(0px 1px 2px rgba(0, 0, 0, 0.3));\n",
              "        fill: #FFFFFF;\n",
              "      }\n",
              "    </style>\n",
              "    <button class=\"colab-df-generate\" onclick=\"generateWithVariable('PCA_ds')\"\n",
              "            title=\"Generate code using this dataframe.\"\n",
              "            style=\"display:none;\">\n",
              "\n",
              "  <svg xmlns=\"http://www.w3.org/2000/svg\" height=\"24px\"viewBox=\"0 0 24 24\"\n",
              "       width=\"24px\">\n",
              "    <path d=\"M7,19H8.4L18.45,9,17,7.55,7,17.6ZM5,21V16.75L18.45,3.32a2,2,0,0,1,2.83,0l1.4,1.43a1.91,1.91,0,0,1,.58,1.4,1.91,1.91,0,0,1-.58,1.4L9.25,21ZM18.45,9,17,7.55Zm-12,3A5.31,5.31,0,0,0,4.9,8.1,5.31,5.31,0,0,0,1,6.5,5.31,5.31,0,0,0,4.9,4.9,5.31,5.31,0,0,0,6.5,1,5.31,5.31,0,0,0,8.1,4.9,5.31,5.31,0,0,0,12,6.5,5.46,5.46,0,0,0,6.5,12Z\"/>\n",
              "  </svg>\n",
              "    </button>\n",
              "    <script>\n",
              "      (() => {\n",
              "      const buttonEl =\n",
              "        document.querySelector('#id_7b4b1501-b431-4661-b597-e4c54231266d button.colab-df-generate');\n",
              "      buttonEl.style.display =\n",
              "        google.colab.kernel.accessAllowed ? 'block' : 'none';\n",
              "\n",
              "      buttonEl.onclick = () => {\n",
              "        google.colab.notebook.generateWithVariable('PCA_ds');\n",
              "      }\n",
              "      })();\n",
              "    </script>\n",
              "  </div>\n",
              "\n",
              "    </div>\n",
              "  </div>\n"
            ],
            "application/vnd.google.colaboratory.intrinsic+json": {
              "type": "dataframe",
              "variable_name": "PCA_ds",
              "summary": "{\n  \"name\": \"PCA_ds\",\n  \"rows\": 948,\n  \"fields\": [\n    {\n      \"column\": \"col1\",\n      \"properties\": {\n        \"dtype\": \"number\",\n        \"std\": 38.522521100478905,\n        \"min\": -50.41657896887979,\n        \"max\": 163.87468886270514,\n        \"num_unique_values\": 479,\n        \"samples\": [\n          24.87351028825921,\n          -32.913987188920544,\n          38.24796190529702\n        ],\n        \"semantic_type\": \"\",\n        \"description\": \"\"\n      }\n    },\n    {\n      \"column\": \"col2\",\n      \"properties\": {\n        \"dtype\": \"number\",\n        \"std\": 4.794958158621063,\n        \"min\": -8.218113245808112,\n        \"max\": 19.106914657921756,\n        \"num_unique_values\": 479,\n        \"samples\": [\n          10.425075485554043,\n          -1.0901003631596877,\n          4.608656958834599\n        ],\n        \"semantic_type\": \"\",\n        \"description\": \"\"\n      }\n    },\n    {\n      \"column\": \"col3\",\n      \"properties\": {\n        \"dtype\": \"number\",\n        \"std\": 3.2178129191689155,\n        \"min\": -5.076923403866224,\n        \"max\": 41.64328566183452,\n        \"num_unique_values\": 479,\n        \"samples\": [\n          3.210575795043856,\n          -0.10670030072519698,\n          3.837754773744641\n        ],\n        \"semantic_type\": \"\",\n        \"description\": \"\"\n      }\n    }\n  ]\n}"
            }
          },
          "metadata": {},
          "execution_count": 30
        }
      ]
    },
    {
      "cell_type": "code",
      "source": [
        "pca.explained_variance_ratio_"
      ],
      "metadata": {
        "colab": {
          "base_uri": "https://localhost:8080/"
        },
        "id": "UE1tYlrbR0H9",
        "outputId": "2afbd9b2-3f2e-4a41-e3eb-37e045eb1ad5"
      },
      "execution_count": null,
      "outputs": [
        {
          "output_type": "execute_result",
          "data": {
            "text/plain": [
              "array([0.97756614, 0.0151456 , 0.00682085])"
            ]
          },
          "metadata": {},
          "execution_count": 31
        }
      ]
    },
    {
      "cell_type": "markdown",
      "source": [
        "## 2. Apply K-Means model"
      ],
      "metadata": {
        "id": "wnqa8tMC8vgi"
      }
    },
    {
      "cell_type": "markdown",
      "source": [
        "### **Choosing K:**"
      ],
      "metadata": {
        "id": "GxmS5rf7WCuY"
      }
    },
    {
      "cell_type": "code",
      "source": [
        "from sklearn.cluster import KMeans\n",
        "ss = []\n",
        "max_clusters = 10\n",
        "for i in range(1, max_clusters+1):\n",
        "    kmeans = KMeans(n_clusters=i, init='k-means++', random_state=42)\n",
        "    kmeans.fit(PCA_ds)\n",
        "    # Inertia method returns WCSS for that model\n",
        "    ss.append(kmeans.inertia_)\n",
        "\n",
        "# Plot the Elbow method\n",
        "plt.figure(figsize=(10,5))\n",
        "plt.plot(range(1, max_clusters+1), ss, marker='o', linestyle='--')\n",
        "plt.title('Elbow Method')\n",
        "plt.xlabel('Number of clusters')\n",
        "plt.ylabel('WCSS')\n",
        "plt.show()"
      ],
      "metadata": {
        "colab": {
          "base_uri": "https://localhost:8080/",
          "height": 487
        },
        "id": "91cVr9aIV8o3",
        "outputId": "1215ff38-f97e-4227-d771-5bc537d4333e"
      },
      "execution_count": null,
      "outputs": [
        {
          "output_type": "display_data",
          "data": {
            "text/plain": [
              "<Figure size 1000x500 with 1 Axes>"
            ],
            "image/png": "[encoded data removed]"
          },
          "metadata": {}
        }
      ]
    },
    {
      "cell_type": "markdown",
      "source": [
        "=> Choose k=4"
      ],
      "metadata": {
        "id": "UPq42F4zWl89"
      }
    },
    {
      "cell_type": "markdown",
      "source": [
        "### **Apply K-Means:**"
      ],
      "metadata": {
        "id": "UMdAtZpfWtWU"
      }
    },
    {
      "cell_type": "code",
      "source": [
        "kmeans = KMeans(n_clusters=4, init='k-means++', random_state=42)\n",
        "predicted_labels = kmeans.fit_predict(PCA_ds)\n",
        "\n",
        "PCA_ds['clusters']=predicted_labels\n",
        "Feature_Important['clusters']=predicted_labels"
      ],
      "metadata": {
        "id": "x1r8ccJKWp4V"
      },
      "execution_count": null,
      "outputs": []
    },
    {
      "cell_type": "code",
      "source": [
        "Feature_Important"
      ],
      "metadata": {
        "colab": {
          "base_uri": "https://localhost:8080/",
          "height": 423
        },
        "id": "jCc7z7dkh1Sz",
        "outputId": "3712465d-d026-4bc9-a15e-9b2154a79e97"
      },
      "execution_count": null,
      "outputs": [
        {
          "output_type": "execute_result",
          "data": {
            "text/plain": [
              "      Tenure  Complain  DaySinceLastOrder  CashbackAmount  \\\n",
              "7        1.0         1                1.0          143.59   \n",
              "24       1.0         1                1.0          143.59   \n",
              "40       0.0         1                0.0          118.59   \n",
              "58       0.0         1                0.0          118.59   \n",
              "68       1.0         1                7.0          185.74   \n",
              "...      ...       ...                ...             ...   \n",
              "5469    21.0         1                9.0          317.46   \n",
              "5494     9.0         1               12.0          313.24   \n",
              "5531     5.0         0                9.0          320.45   \n",
              "5571    21.0         1                9.0          317.46   \n",
              "5596     9.0         1               12.0          313.24   \n",
              "\n",
              "      MaritalStatus_Single  PreferedOrderCat_Mobile Phone  clusters  \n",
              "7                        1                              1         1  \n",
              "24                       1                              1         1  \n",
              "40                       1                              1         3  \n",
              "58                       1                              1         3  \n",
              "68                       1                              0         2  \n",
              "...                    ...                            ...       ...  \n",
              "5469                     1                              0         0  \n",
              "5494                     1                              0         0  \n",
              "5531                     0                              0         0  \n",
              "5571                     1                              0         0  \n",
              "5596                     1                              0         0  \n",
              "\n",
              "[948 rows x 7 columns]"
            ],
            "text/html": [
              "\n",
              "  <div id=\"df-39b34437-3e28-483f-b71d-7751c7aaf658\" class=\"colab-df-container\">\n",
              "    <div>\n",
              "<style scoped>\n",
              "    .dataframe tbody tr th:only-of-type {\n",
              "        vertical-align: middle;\n",
              "    }\n",
              "\n",
              "    .dataframe tbody tr th {\n",
              "        vertical-align: top;\n",
              "    }\n",
              "\n",
              "    .dataframe thead th {\n",
              "        text-align: right;\n",
              "    }\n",
              "</style>\n",
              "<table border=\"1\" class=\"dataframe\">\n",
              "  <thead>\n",
              "    <tr style=\"text-align: right;\">\n",
              "      <th></th>\n",
              "      <th>Tenure</th>\n",
              "      <th>Complain</th>\n",
              "      <th>DaySinceLastOrder</th>\n",
              "      <th>CashbackAmount</th>\n",
              "      <th>MaritalStatus_Single</th>\n",
              "      <th>PreferedOrderCat_Mobile Phone</th>\n",
              "      <th>clusters</th>\n",
              "    </tr>\n",
              "  </thead>\n",
              "  <tbody>\n",
              "    <tr>\n",
              "      <th>7</th>\n",
              "      <td>1.0</td>\n",
              "      <td>1</td>\n",
              "      <td>1.0</td>\n",
              "      <td>143.59</td>\n",
              "      <td>1</td>\n",
              "      <td>1</td>\n",
              "      <td>1</td>\n",
              "    </tr>\n",
              "    <tr>\n",
              "      <th>24</th>\n",
              "      <td>1.0</td>\n",
              "      <td>1</td>\n",
              "      <td>1.0</td>\n",
              "      <td>143.59</td>\n",
              "      <td>1</td>\n",
              "      <td>1</td>\n",
              "      <td>1</td>\n",
              "    </tr>\n",
              "    <tr>\n",
              "      <th>40</th>\n",
              "      <td>0.0</td>\n",
              "      <td>1</td>\n",
              "      <td>0.0</td>\n",
              "      <td>118.59</td>\n",
              "      <td>1</td>\n",
              "      <td>1</td>\n",
              "      <td>3</td>\n",
              "    </tr>\n",
              "    <tr>\n",
              "      <th>58</th>\n",
              "      <td>0.0</td>\n",
              "      <td>1</td>\n",
              "      <td>0.0</td>\n",
              "      <td>118.59</td>\n",
              "      <td>1</td>\n",
              "      <td>1</td>\n",
              "      <td>3</td>\n",
              "    </tr>\n",
              "    <tr>\n",
              "      <th>68</th>\n",
              "      <td>1.0</td>\n",
              "      <td>1</td>\n",
              "      <td>7.0</td>\n",
              "      <td>185.74</td>\n",
              "      <td>1</td>\n",
              "      <td>0</td>\n",
              "      <td>2</td>\n",
              "    </tr>\n",
              "    <tr>\n",
              "      <th>...</th>\n",
              "      <td>...</td>\n",
              "      <td>...</td>\n",
              "      <td>...</td>\n",
              "      <td>...</td>\n",
              "      <td>...</td>\n",
              "      <td>...</td>\n",
              "      <td>...</td>\n",
              "    </tr>\n",
              "    <tr>\n",
              "      <th>5469</th>\n",
              "      <td>21.0</td>\n",
              "      <td>1</td>\n",
              "      <td>9.0</td>\n",
              "      <td>317.46</td>\n",
              "      <td>1</td>\n",
              "      <td>0</td>\n",
              "      <td>0</td>\n",
              "    </tr>\n",
              "    <tr>\n",
              "      <th>5494</th>\n",
              "      <td>9.0</td>\n",
              "      <td>1</td>\n",
              "      <td>12.0</td>\n",
              "      <td>313.24</td>\n",
              "      <td>1</td>\n",
              "      <td>0</td>\n",
              "      <td>0</td>\n",
              "    </tr>\n",
              "    <tr>\n",
              "      <th>5531</th>\n",
              "      <td>5.0</td>\n",
              "      <td>0</td>\n",
              "      <td>9.0</td>\n",
              "      <td>320.45</td>\n",
              "      <td>0</td>\n",
              "      <td>0</td>\n",
              "      <td>0</td>\n",
              "    </tr>\n",
              "    <tr>\n",
              "      <th>5571</th>\n",
              "      <td>21.0</td>\n",
              "      <td>1</td>\n",
              "      <td>9.0</td>\n",
              "      <td>317.46</td>\n",
              "      <td>1</td>\n",
              "      <td>0</td>\n",
              "      <td>0</td>\n",
              "    </tr>\n",
              "    <tr>\n",
              "      <th>5596</th>\n",
              "      <td>9.0</td>\n",
              "      <td>1</td>\n",
              "      <td>12.0</td>\n",
              "      <td>313.24</td>\n",
              "      <td>1</td>\n",
              "      <td>0</td>\n",
              "      <td>0</td>\n",
              "    </tr>\n",
              "  </tbody>\n",
              "</table>\n",
              "<p>948 rows × 7 columns</p>\n",
              "</div>\n",
              "    <div class=\"colab-df-buttons\">\n",
              "\n",
              "  <div class=\"colab-df-container\">\n",
              "    <button class=\"colab-df-convert\" onclick=\"convertToInteractive('df-39b34437-3e28-483f-b71d-7751c7aaf658')\"\n",
              "            title=\"Convert this dataframe to an interactive table.\"\n",
              "            style=\"display:none;\">\n",
              "\n",
              "  <svg xmlns=\"http://www.w3.org/2000/svg\" height=\"24px\" viewBox=\"0 -960 960 960\">\n",
              "    <path d=\"M120-120v-720h720v720H120Zm60-500h600v-160H180v160Zm220 220h160v-160H400v160Zm0 220h160v-160H400v160ZM180-400h160v-160H180v160Zm440 0h160v-160H620v160ZM180-180h160v-160H180v160Zm440 0h160v-160H620v160Z\"/>\n",
              "  </svg>\n",
              "    </button>\n",
              "\n",
              "  <style>\n",
              "    .colab-df-container {\n",
              "      display:flex;\n",
              "      gap: 12px;\n",
              "    }\n",
              "\n",
              "    .colab-df-convert {\n",
              "      background-color: #E8F0FE;\n",
              "      border: none;\n",
              "      border-radius: 50%;\n",
              "      cursor: pointer;\n",
              "      display: none;\n",
              "      fill: #1967D2;\n",
              "      height: 32px;\n",
              "      padding: 0 0 0 0;\n",
              "      width: 32px;\n",
              "    }\n",
              "\n",
              "    .colab-df-convert:hover {\n",
              "      background-color: #E2EBFA;\n",
              "      box-shadow: 0px 1px 2px rgba(60, 64, 67, 0.3), 0px 1px 3px 1px rgba(60, 64, 67, 0.15);\n",
              "      fill: #174EA6;\n",
              "    }\n",
              "\n",
              "    .colab-df-buttons div {\n",
              "      margin-bottom: 4px;\n",
              "    }\n",
              "\n",
              "    [theme=dark] .colab-df-convert {\n",
              "      background-color: #3B4455;\n",
              "      fill: #D2E3FC;\n",
              "    }\n",
              "\n",
              "    [theme=dark] .colab-df-convert:hover {\n",
              "      background-color: #434B5C;\n",
              "      box-shadow: 0px 1px 3px 1px rgba(0, 0, 0, 0.15);\n",
              "      filter: drop-shadow(0px 1px 2px rgba(0, 0, 0, 0.3));\n",
              "      fill: #FFFFFF;\n",
              "    }\n",
              "  </style>\n",
              "\n",
              "    <script>\n",
              "      const buttonEl =\n",
              "        document.querySelector('#df-39b34437-3e28-483f-b71d-7751c7aaf658 button.colab-df-convert');\n",
              "      buttonEl.style.display =\n",
              "        google.colab.kernel.accessAllowed ? 'block' : 'none';\n",
              "\n",
              "      async function convertToInteractive(key) {\n",
              "        const element = document.querySelector('#df-39b34437-3e28-483f-b71d-7751c7aaf658');\n",
              "        const dataTable =\n",
              "          await google.colab.kernel.invokeFunction('convertToInteractive',\n",
              "                                                    [key], {});\n",
              "        if (!dataTable) return;\n",
              "\n",
              "        const docLinkHtml = 'Like what you see? Visit the ' +\n",
              "          '<a target=\"_blank\" href=https://colab.research.google.com/notebooks/data_table.ipynb>data table notebook</a>'\n",
              "          + ' to learn more about interactive tables.';\n",
              "        element.innerHTML = '';\n",
              "        dataTable['output_type'] = 'display_data';\n",
              "        await google.colab.output.renderOutput(dataTable, element);\n",
              "        const docLink = document.createElement('div');\n",
              "        docLink.innerHTML = docLinkHtml;\n",
              "        element.appendChild(docLink);\n",
              "      }\n",
              "    </script>\n",
              "  </div>\n",
              "\n",
              "\n",
              "<div id=\"df-a5b3b1d4-2ec9-44b3-b8ce-85928374fd17\">\n",
              "  <button class=\"colab-df-quickchart\" onclick=\"quickchart('df-a5b3b1d4-2ec9-44b3-b8ce-85928374fd17')\"\n",
              "            title=\"Suggest charts\"\n",
              "            style=\"display:none;\">\n",
              "\n",
              "<svg xmlns=\"http://www.w3.org/2000/svg\" height=\"24px\"viewBox=\"0 0 24 24\"\n",
              "     width=\"24px\">\n",
              "    <g>\n",
              "        <path d=\"M19 3H5c-1.1 0-2 .9-2 2v14c0 1.1.9 2 2 2h14c1.1 0 2-.9 2-2V5c0-1.1-.9-2-2-2zM9 17H7v-7h2v7zm4 0h-2V7h2v10zm4 0h-2v-4h2v4z\"/>\n",
              "    </g>\n",
              "</svg>\n",
              "  </button>\n",
              "\n",
              "<style>\n",
              "  .colab-df-quickchart {\n",
              "      --bg-color: #E8F0FE;\n",
              "      --fill-color: #1967D2;\n",
              "      --hover-bg-color: #E2EBFA;\n",
              "      --hover-fill-color: #174EA6;\n",
              "      --disabled-fill-color: #AAA;\n",
              "      --disabled-bg-color: #DDD;\n",
              "  }\n",
              "\n",
              "  [theme=dark] .colab-df-quickchart {\n",
              "      --bg-color: #3B4455;\n",
              "      --fill-color: #D2E3FC;\n",
              "      --hover-bg-color: #434B5C;\n",
              "      --hover-fill-color: #FFFFFF;\n",
              "      --disabled-bg-color: #3B4455;\n",
              "      --disabled-fill-color: #666;\n",
              "  }\n",
              "\n",
              "  .colab-df-quickchart {\n",
              "    background-color: var(--bg-color);\n",
              "    border: none;\n",
              "    border-radius: 50%;\n",
              "    cursor: pointer;\n",
              "    display: none;\n",
              "    fill: var(--fill-color);\n",
              "    height: 32px;\n",
              "    padding: 0;\n",
              "    width: 32px;\n",
              "  }\n",
              "\n",
              "  .colab-df-quickchart:hover {\n",
              "    background-color: var(--hover-bg-color);\n",
              "    box-shadow: 0 1px 2px rgba(60, 64, 67, 0.3), 0 1px 3px 1px rgba(60, 64, 67, 0.15);\n",
              "    fill: var(--button-hover-fill-color);\n",
              "  }\n",
              "\n",
              "  .colab-df-quickchart-complete:disabled,\n",
              "  .colab-df-quickchart-complete:disabled:hover {\n",
              "    background-color: var(--disabled-bg-color);\n",
              "    fill: var(--disabled-fill-color);\n",
              "    box-shadow: none;\n",
              "  }\n",
              "\n",
              "  .colab-df-spinner {\n",
              "    border: 2px solid var(--fill-color);\n",
              "    border-color: transparent;\n",
              "    border-bottom-color: var(--fill-color);\n",
              "    animation:\n",
              "      spin 1s steps(1) infinite;\n",
              "  }\n",
              "\n",
              "  @keyframes spin {\n",
              "    0% {\n",
              "      border-color: transparent;\n",
              "      border-bottom-color: var(--fill-color);\n",
              "      border-left-color: var(--fill-color);\n",
              "    }\n",
              "    20% {\n",
              "      border-color: transparent;\n",
              "      border-left-color: var(--fill-color);\n",
              "      border-top-color: var(--fill-color);\n",
              "    }\n",
              "    30% {\n",
              "      border-color: transparent;\n",
              "      border-left-color: var(--fill-color);\n",
              "      border-top-color: var(--fill-color);\n",
              "      border-right-color: var(--fill-color);\n",
              "    }\n",
              "    40% {\n",
              "      border-color: transparent;\n",
              "      border-right-color: var(--fill-color);\n",
              "      border-top-color: var(--fill-color);\n",
              "    }\n",
              "    60% {\n",
              "      border-color: transparent;\n",
              "      border-right-color: var(--fill-color);\n",
              "    }\n",
              "    80% {\n",
              "      border-color: transparent;\n",
              "      border-right-color: var(--fill-color);\n",
              "      border-bottom-color: var(--fill-color);\n",
              "    }\n",
              "    90% {\n",
              "      border-color: transparent;\n",
              "      border-bottom-color: var(--fill-color);\n",
              "    }\n",
              "  }\n",
              "</style>\n",
              "\n",
              "  <script>\n",
              "    async function quickchart(key) {\n",
              "      const quickchartButtonEl =\n",
              "        document.querySelector('#' + key + ' button');\n",
              "      quickchartButtonEl.disabled = true;  // To prevent multiple clicks.\n",
              "      quickchartButtonEl.classList.add('colab-df-spinner');\n",
              "      try {\n",
              "        const charts = await google.colab.kernel.invokeFunction(\n",
              "            'suggestCharts', [key], {});\n",
              "      } catch (error) {\n",
              "        console.error('Error during call to suggestCharts:', error);\n",
              "      }\n",
              "      quickchartButtonEl.classList.remove('colab-df-spinner');\n",
              "      quickchartButtonEl.classList.add('colab-df-quickchart-complete');\n",
              "    }\n",
              "    (() => {\n",
              "      let quickchartButtonEl =\n",
              "        document.querySelector('#df-a5b3b1d4-2ec9-44b3-b8ce-85928374fd17 button');\n",
              "      quickchartButtonEl.style.display =\n",
              "        google.colab.kernel.accessAllowed ? 'block' : 'none';\n",
              "    })();\n",
              "  </script>\n",
              "</div>\n",
              "\n",
              "  <div id=\"id_8827dfbe-ffda-4604-97c7-17f73fc07d8f\">\n",
              "    <style>\n",
              "      .colab-df-generate {\n",
              "        background-color: #E8F0FE;\n",
              "        border: none;\n",
              "        border-radius: 50%;\n",
              "        cursor: pointer;\n",
              "        display: none;\n",
              "        fill: #1967D2;\n",
              "        height: 32px;\n",
              "        padding: 0 0 0 0;\n",
              "        width: 32px;\n",
              "      }\n",
              "\n",
              "      .colab-df-generate:hover {\n",
              "        background-color: #E2EBFA;\n",
              "        box-shadow: 0px 1px 2px rgba(60, 64, 67, 0.3), 0px 1px 3px 1px rgba(60, 64, 67, 0.15);\n",
              "        fill: #174EA6;\n",
              "      }\n",
              "\n",
              "      [theme=dark] .colab-df-generate {\n",
              "        background-color: #3B4455;\n",
              "        fill: #D2E3FC;\n",
              "      }\n",
              "\n",
              "      [theme=dark] .colab-df-generate:hover {\n",
              "        background-color: #434B5C;\n",
              "        box-shadow: 0px 1px 3px 1px rgba(0, 0, 0, 0.15);\n",
              "        filter: drop-shadow(0px 1px 2px rgba(0, 0, 0, 0.3));\n",
              "        fill: #FFFFFF;\n",
              "      }\n",
              "    </style>\n",
              "    <button class=\"colab-df-generate\" onclick=\"generateWithVariable('Feature_Important')\"\n",
              "            title=\"Generate code using this dataframe.\"\n",
              "            style=\"display:none;\">\n",
              "\n",
              "  <svg xmlns=\"http://www.w3.org/2000/svg\" height=\"24px\"viewBox=\"0 0 24 24\"\n",
              "       width=\"24px\">\n",
              "    <path d=\"M7,19H8.4L18.45,9,17,7.55,7,17.6ZM5,21V16.75L18.45,3.32a2,2,0,0,1,2.83,0l1.4,1.43a1.91,1.91,0,0,1,.58,1.4,1.91,1.91,0,0,1-.58,1.4L9.25,21ZM18.45,9,17,7.55Zm-12,3A5.31,5.31,0,0,0,4.9,8.1,5.31,5.31,0,0,0,1,6.5,5.31,5.31,0,0,0,4.9,4.9,5.31,5.31,0,0,0,6.5,1,5.31,5.31,0,0,0,8.1,4.9,5.31,5.31,0,0,0,12,6.5,5.46,5.46,0,0,0,6.5,12Z\"/>\n",
              "  </svg>\n",
              "    </button>\n",
              "    <script>\n",
              "      (() => {\n",
              "      const buttonEl =\n",
              "        document.querySelector('#id_8827dfbe-ffda-4604-97c7-17f73fc07d8f button.colab-df-generate');\n",
              "      buttonEl.style.display =\n",
              "        google.colab.kernel.accessAllowed ? 'block' : 'none';\n",
              "\n",
              "      buttonEl.onclick = () => {\n",
              "        google.colab.notebook.generateWithVariable('Feature_Important');\n",
              "      }\n",
              "      })();\n",
              "    </script>\n",
              "  </div>\n",
              "\n",
              "    </div>\n",
              "  </div>\n"
            ],
            "application/vnd.google.colaboratory.intrinsic+json": {
              "type": "dataframe",
              "variable_name": "Feature_Important",
              "summary": "{\n  \"name\": \"Feature_Important\",\n  \"rows\": 948,\n  \"fields\": [\n    {\n      \"column\": \"Tenure\",\n      \"properties\": {\n        \"dtype\": \"number\",\n        \"std\": 5.330690395942959,\n        \"min\": 0.0,\n        \"max\": 21.0,\n        \"num_unique_values\": 22,\n        \"samples\": [\n          1.0,\n          12.0,\n          10.0\n        ],\n        \"semantic_type\": \"\",\n        \"description\": \"\"\n      }\n    },\n    {\n      \"column\": \"Complain\",\n      \"properties\": {\n        \"dtype\": \"number\",\n        \"std\": 0,\n        \"min\": 0,\n        \"max\": 1,\n        \"num_unique_values\": 2,\n        \"samples\": [\n          0,\n          1\n        ],\n        \"semantic_type\": \"\",\n        \"description\": \"\"\n      }\n    },\n    {\n      \"column\": \"DaySinceLastOrder\",\n      \"properties\": {\n        \"dtype\": \"number\",\n        \"std\": 3.40017815850672,\n        \"min\": 0.0,\n        \"max\": 46.0,\n        \"num_unique_values\": 16,\n        \"samples\": [\n          1.0,\n          0.0\n        ],\n        \"semantic_type\": \"\",\n        \"description\": \"\"\n      }\n    },\n    {\n      \"column\": \"CashbackAmount\",\n      \"properties\": {\n        \"dtype\": \"number\",\n        \"std\": 38.43605497788585,\n        \"min\": 110.09,\n        \"max\": 323.59,\n        \"num_unique_values\": 466,\n        \"samples\": [\n          123.25,\n          151.25\n        ],\n        \"semantic_type\": \"\",\n        \"description\": \"\"\n      }\n    },\n    {\n      \"column\": \"MaritalStatus_Single\",\n      \"properties\": {\n        \"dtype\": \"number\",\n        \"std\": 0,\n        \"min\": 0,\n        \"max\": 1,\n        \"num_unique_values\": 2,\n        \"samples\": [\n          0,\n          1\n        ],\n        \"semantic_type\": \"\",\n        \"description\": \"\"\n      }\n    },\n    {\n      \"column\": \"PreferedOrderCat_Mobile Phone\",\n      \"properties\": {\n        \"dtype\": \"number\",\n        \"std\": 0,\n        \"min\": 0,\n        \"max\": 1,\n        \"num_unique_values\": 2,\n        \"samples\": [\n          0,\n          1\n        ],\n        \"semantic_type\": \"\",\n        \"description\": \"\"\n      }\n    },\n    {\n      \"column\": \"clusters\",\n      \"properties\": {\n        \"dtype\": \"int32\",\n        \"num_unique_values\": 4,\n        \"samples\": [\n          3,\n          0\n        ],\n        \"semantic_type\": \"\",\n        \"description\": \"\"\n      }\n    }\n  ]\n}"
            }
          },
          "metadata": {},
          "execution_count": 34
        }
      ]
    },
    {
      "cell_type": "markdown",
      "source": [
        "### **Silhouette Score:**"
      ],
      "metadata": {
        "id": "uLBlcqAAXJw5"
      }
    },
    {
      "cell_type": "code",
      "source": [
        "from sklearn.metrics import silhouette_score\n",
        "\n",
        "sil_score = silhouette_score(PCA_ds, predicted_labels)\n",
        "print(sil_score)"
      ],
      "metadata": {
        "colab": {
          "base_uri": "https://localhost:8080/"
        },
        "id": "IpB15LKHXEQ2",
        "outputId": "86a4025e-2c90-4e5a-fe1f-a9c5f0f51db2"
      },
      "execution_count": null,
      "outputs": [
        {
          "output_type": "stream",
          "name": "stdout",
          "text": [
            "0.5399135967528276\n"
          ]
        }
      ]
    },
    {
      "cell_type": "markdown",
      "source": [
        "=> silhouette_score=0.5 shows that the data is clustered quite well."
      ],
      "metadata": {
        "id": "pW_jUpaUs5dW"
      }
    },
    {
      "cell_type": "markdown",
      "source": [
        "### **Distribution of clusters:**"
      ],
      "metadata": {
        "id": "eGYhKZLMXm9X"
      }
    },
    {
      "cell_type": "code",
      "source": [
        "pal = [\"#682F2F\",\"#B9C0C9\", \"#9F8A78\",\"#F3AB60\"]\n",
        "pl = sns.countplot(x=Feature_Important[\"clusters\"], palette= pal)\n",
        "pl.set_title(\"Distribution Of The Clusters\")\n",
        "plt.show()"
      ],
      "metadata": {
        "colab": {
          "base_uri": "https://localhost:8080/",
          "height": 472
        },
        "id": "qTsJVFQCXnjj",
        "outputId": "517bc0b4-9457-474a-a38b-5b615131ac81"
      },
      "execution_count": null,
      "outputs": [
        {
          "output_type": "display_data",
          "data": {
            "text/plain": [
              "<Figure size 640x480 with 1 Axes>"
            ],
            "image/png": "[encoded data removed]"
          },
          "metadata": {}
        }
      ]
    },
    {
      "cell_type": "markdown",
      "source": [
        "=> Cluster 1 has the most distribution (accounted for more 400 users)"
      ],
      "metadata": {
        "id": "MAbA1z8pv0RZ"
      }
    },
    {
      "cell_type": "code",
      "source": [
        "pl = sns.scatterplot(data = Feature_Important,x=Feature_Important[\"Tenure\"], y=Feature_Important[\"CashbackAmount\"],hue=Feature_Important[\"clusters\"], palette= pal)\n",
        "pl.set_title(\"Cluster's Profile Based On CashbackAmount And Tenure\")\n",
        "plt.legend()\n",
        "plt.show()"
      ],
      "metadata": {
        "colab": {
          "base_uri": "https://localhost:8080/",
          "height": 472
        },
        "id": "hf5OY6Gk4GrU",
        "outputId": "ff5fbb06-4e07-4e2e-9cd6-e04ecbbd503c"
      },
      "execution_count": null,
      "outputs": [
        {
          "output_type": "display_data",
          "data": {
            "text/plain": [
              "<Figure size 640x480 with 1 Axes>"
            ],
            "image/png": "[encoded data removed]"
          },
          "metadata": {}
        }
      ]
    },
    {
      "cell_type": "markdown",
      "source": [
        "=> The distribution of clusters by CashbackAmount And Tenure is almost the same."
      ],
      "metadata": {
        "id": "HVChOngq6BMY"
      }
    },
    {
      "cell_type": "code",
      "source": [
        "pl = sns.scatterplot(data = Feature_Important,x=Feature_Important[\"DaySinceLastOrder\"], y=Feature_Important[\"CashbackAmount\"],hue=Feature_Important[\"clusters\"], palette= pal)\n",
        "pl.set_title(\"Cluster's Profile Based On CashbackAmount And DaySinceLastOrder\")\n",
        "plt.legend()\n",
        "plt.show()"
      ],
      "metadata": {
        "colab": {
          "base_uri": "https://localhost:8080/",
          "height": 472
        },
        "id": "tcM_K_wk5oL_",
        "outputId": "27fd4ff1-1224-4b95-e70e-55b022334f29"
      },
      "execution_count": null,
      "outputs": [
        {
          "output_type": "display_data",
          "data": {
            "text/plain": [
              "<Figure size 640x480 with 1 Axes>"
            ],
            "image/png": "[encoded data removed]"
          },
          "metadata": {}
        }
      ]
    },
    {
      "cell_type": "markdown",
      "source": [
        "=> The distribution of clusters is mainly concentrated in the range of 0-20 recent days."
      ],
      "metadata": {
        "id": "3rbU0OyV6mo8"
      }
    },
    {
      "cell_type": "code",
      "source": [
        "pl = sns.countplot(data = Feature_Important,x=Feature_Important[\"MaritalStatus_Single\"],hue=Feature_Important[\"clusters\"], palette= pal)\n",
        "pl.set_title(\"Cluster's Profile Based On MaritalStatus\")\n",
        "plt.legend()\n",
        "plt.show()"
      ],
      "metadata": {
        "colab": {
          "base_uri": "https://localhost:8080/",
          "height": 472
        },
        "id": "8UnfDXAiYRKJ",
        "outputId": "ec0c43d0-face-495c-ca45-56a2bb96ccd7"
      },
      "execution_count": null,
      "outputs": [
        {
          "output_type": "display_data",
          "data": {
            "text/plain": [
              "<Figure size 640x480 with 1 Axes>"
            ],
            "image/png": "[encoded data removed]"
          },
          "metadata": {}
        }
      ]
    },
    {
      "cell_type": "code",
      "source": [
        "pl = sns.countplot(data = Feature_Important,x=Feature_Important[\"Complain\"],hue=Feature_Important[\"clusters\"], palette= pal)\n",
        "pl.set_title(\"Cluster's Profile Based On Complain\")\n",
        "plt.legend()\n",
        "plt.show()"
      ],
      "metadata": {
        "colab": {
          "base_uri": "https://localhost:8080/",
          "height": 472
        },
        "id": "eLL3yDgluBre",
        "outputId": "54657dac-adc5-4c8f-b643-6a4f395ce6df"
      },
      "execution_count": null,
      "outputs": [
        {
          "output_type": "display_data",
          "data": {
            "text/plain": [
              "<Figure size 640x480 with 1 Axes>"
            ],
            "image/png": "[encoded data removed]"
          },
          "metadata": {}
        }
      ]
    },
    {
      "cell_type": "code",
      "source": [
        "pl = sns.countplot(data = Feature_Important,x=Feature_Important[\"PreferedOrderCat_Mobile Phone\"],hue=Feature_Important[\"clusters\"], palette= pal)\n",
        "pl.set_title(\"Cluster's Profile Based On PreferedOrderCat\")\n",
        "plt.legend()\n",
        "plt.show()"
      ],
      "metadata": {
        "colab": {
          "base_uri": "https://localhost:8080/",
          "height": 472
        },
        "id": "roCvH19_uQsj",
        "outputId": "5466e8e4-9df5-4c14-8de7-702cc715589c"
      },
      "execution_count": null,
      "outputs": [
        {
          "output_type": "display_data",
          "data": {
            "text/plain": [
              "<Figure size 640x480 with 1 Axes>"
            ],
            "image/png": "[encoded data removed]"
          },
          "metadata": {}
        }
      ]
    },
    {
      "cell_type": "markdown",
      "source": [
        "## 3. GridSearchCV model"
      ],
      "metadata": {
        "id": "BFeqEM6tlCGq"
      }
    },
    {
      "cell_type": "markdown",
      "source": [
        "### **Split train/test set & Normalization**"
      ],
      "metadata": {
        "id": "IvHuyoKMn0L8"
      }
    },
    {
      "cell_type": "code",
      "source": [
        "x2 = Feature_Important.drop('clusters', axis = 1)\n",
        "y2 = Feature_Important[['clusters']]\n",
        "\n",
        "\n",
        "x2_train, x2_test, y2_train, y2_test = train_test_split(x2,y2, test_size=0.3, random_state=42)\n",
        "\n",
        "print(f\"Number data of train set: {len(x2_train)}\")\n",
        "print(f\"Number data of test set: {len(x2_test)}\")"
      ],
      "metadata": {
        "colab": {
          "base_uri": "https://localhost:8080/"
        },
        "id": "DGOo0P_ilYgK",
        "outputId": "105cfac4-32cd-4225-bf07-202f5e548541"
      },
      "execution_count": null,
      "outputs": [
        {
          "output_type": "stream",
          "name": "stdout",
          "text": [
            "Number data of train set: 663\n",
            "Number data of test set: 285\n"
          ]
        }
      ]
    },
    {
      "cell_type": "code",
      "source": [
        "from sklearn.preprocessing import MinMaxScaler\n",
        "\n",
        "#Scale Feature:\n",
        "scaler = MinMaxScaler()\n",
        "scaler.fit(x2_train)\n",
        "\n",
        "x2_train_scaled = scaler.transform(x2_train)\n",
        "x2_test_scaled = scaler.transform(x2_test)"
      ],
      "metadata": {
        "id": "8Us1Zfh7lBoE"
      },
      "execution_count": null,
      "outputs": []
    },
    {
      "cell_type": "markdown",
      "source": [
        "### **Apply Model**"
      ],
      "metadata": {
        "id": "9ycsow1fn9Zv"
      }
    },
    {
      "cell_type": "code",
      "source": [
        "from sklearn.model_selection import GridSearchCV\n",
        "param_grid = {\n",
        "    'n_estimators': [10, 50, 100, 200],\n",
        "    'max_depth': [None, 10, 20, 30],\n",
        "    'min_samples_split': [2, 5, 10],\n",
        "    'min_samples_leaf': [1, 2, 4],\n",
        "    'bootstrap': [True, False]\n",
        "}\n",
        "\n",
        "# Use GridSearchCV to find the best parameters\n",
        "grid_search = GridSearchCV(clf_rand, param_grid, cv=5, scoring='balanced_accuracy')\n",
        "\n",
        "# Fit the model\n",
        "grid_search.fit(x2_train_scaled, y2_train)\n",
        "\n",
        "# Print the best parameters\n",
        "print(\"Best Parameters: \", grid_search.best_params_)\n",
        "\n",
        "# Evaluate the best model on the test set\n",
        "best_clf = grid_search.best_estimator_\n",
        "accuracy = best_clf.score(x2_test_scaled, y2_test)\n",
        "print(\"Test set accuracy: \", accuracy)"
      ],
      "metadata": {
        "id": "sF0iHniz82Wu",
        "colab": {
          "base_uri": "https://localhost:8080/"
        },
        "outputId": "31a4c7ef-2e12-4af4-8bef-7b541a9e4050"
      },
      "execution_count": null,
      "outputs": [
        {
          "output_type": "stream",
          "name": "stdout",
          "text": [
            "Best Parameters:  {'bootstrap': True, 'max_depth': None, 'min_samples_leaf': 1, 'min_samples_split': 2, 'n_estimators': 50}\n",
            "Test set accuracy:  1.0\n"
          ]
        }
      ]
    },
    {
      "cell_type": "markdown",
      "source": [
        "### **Feature Importance of Clusters**"
      ],
      "metadata": {
        "id": "6w78MTyF8nff"
      }
    },
    {
      "cell_type": "code",
      "source": [
        "clf_rand.fit(x2_train_scaled, y2_train)\n",
        "y2_ranf_pre_train = clf_rand.predict(x2_train_scaled)\n",
        "y2_ranf_pre_test = clf_rand.predict(x2_test_scaled)"
      ],
      "metadata": {
        "id": "v8BRg0bqkuT2"
      },
      "execution_count": null,
      "outputs": []
    },
    {
      "cell_type": "code",
      "source": [
        "feats = {} # a dict to hold feature_name: feature_importance\n",
        "for feature, importance in zip(x2_test.columns, clf_rand.feature_importances_):\n",
        "    feats[feature] = importance #add the name/value pair\n",
        "\n",
        "importances = pd.DataFrame.from_dict(feats, orient='index').rename(columns={0: 'Gini-importance'})\n",
        "importances = importances.sort_values(by='Gini-importance', ascending=True)\n",
        "\n",
        "importances = importances.reset_index()\n",
        "\n",
        "# Create bar chart\n",
        "plt.figure(figsize=(10, 10))\n",
        "plt.barh(importances.tail(20)['index'][:20], importances.tail(20)['Gini-importance'])\n",
        "\n",
        "plt.title('Feature Important')\n",
        "\n",
        "# Show plot\n",
        "plt.show()"
      ],
      "metadata": {
        "colab": {
          "base_uri": "https://localhost:8080/",
          "height": 853
        },
        "id": "R2MBz7Cuk120",
        "outputId": "350ff7fc-cdfa-48ae-d338-4eb5c131ed2f"
      },
      "execution_count": null,
      "outputs": [
        {
          "output_type": "display_data",
          "data": {
            "text/plain": [
              "<Figure size 1000x1000 with 1 Axes>"
            ],
            "image/png": "[encoded data removed]"
          },
          "metadata": {}
        }
      ]
    },
    {
      "cell_type": "markdown",
      "source": [
        "=> CashbackAmount is the most important factor in clustering for churned users. It is 3 times more important than Tenure, which is the second most important."
      ],
      "metadata": {
        "id": "9ickwbRVkX7g"
      }
    },
    {
      "cell_type": "markdown",
      "source": [
        "# **Conclusion**"
      ],
      "metadata": {
        "id": "a_S1Mv71IH7i"
      }
    },
    {
      "cell_type": "markdown",
      "source": [
        "The majority of churned users are:\n",
        " - Using Mobile Phone\n",
        " - Tenure in ranges from 0 to 20\n",
        " - DaySinceLastOrder in ranges from 0 to 20 recent days\n",
        " - CashbackAmount\tin ranges from 100 to 325\n",
        "\n",
        " => According to the distribution, the order from most to few users in the cluster is 1-3-2-0.\n",
        "1. Cluster 1:\n",
        "  - CashbackAmount: Large (about 190-250)\n",
        "2. Cluster 3:\n",
        "  - CashbackAmount: Smallest (about 100-140)\n",
        "3. Cluster 2:\n",
        "  - CashbackAmount: Small (about 140-190)\n",
        "4. Cluster 0:\n",
        "  - CashbackAmount: Largest (about >250)  "
      ],
      "metadata": {
        "id": "7KGFvwSDILRa"
      }
    }
  ]
}